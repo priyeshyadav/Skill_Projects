{
 "cells": [
  {
   "cell_type": "markdown",
   "id": "d528b592",
   "metadata": {},
   "source": [
    "# MASTERING PYTHON - 100 Questions"
   ]
  },
  {
   "cell_type": "markdown",
   "id": "16f885fa",
   "metadata": {},
   "source": [
    "# Author : Priyesh Yadav\n",
    "## Mathematics Problem :  15 | Completed\n",
    "## Conditionals : 20 | In Progress\n",
    "## Loop Structure : 25 | Not Started\n",
    "## Array : 10 | Not Started\n",
    "## String : 10 | Not Started\n",
    "## Matrices : 10 | Not Started\n",
    "## Recurssion : 10 | Not Started"
   ]
  },
  {
   "cell_type": "markdown",
   "id": "84c55083",
   "metadata": {},
   "source": [
    "### 1. Write a program that prompts the user for two numbers and displays the addition, subtraction, multiplication, and division between them."
   ]
  },
  {
   "cell_type": "code",
   "execution_count": 14,
   "id": "b4099576",
   "metadata": {},
   "outputs": [
    {
     "name": "stdout",
     "output_type": "stream",
     "text": [
      "Enter Number 1: \n",
      "100\n",
      "Enter Number 2: \n",
      "0\n",
      "Addition : 100.00\n",
      "Subtraction : 100.00\n",
      "Multiplication : 0.00\n"
     ]
    },
    {
     "ename": "ZeroDivisionError",
     "evalue": "float division by zero",
     "output_type": "error",
     "traceback": [
      "\u001b[0;31m---------------------------------------------------------------------------\u001b[0m",
      "\u001b[0;31mZeroDivisionError\u001b[0m                         Traceback (most recent call last)",
      "Cell \u001b[0;32mIn[14], line 6\u001b[0m\n\u001b[1;32m      4\u001b[0m \u001b[38;5;28mprint\u001b[39m(\u001b[38;5;124mf\u001b[39m\u001b[38;5;124m'\u001b[39m\u001b[38;5;124mSubtraction : \u001b[39m\u001b[38;5;132;01m{\u001b[39;00mx\u001b[38;5;250m \u001b[39m\u001b[38;5;241m-\u001b[39m\u001b[38;5;250m \u001b[39my\u001b[38;5;250m \u001b[39m\u001b[38;5;132;01m:\u001b[39;00m\u001b[38;5;124m.2f\u001b[39m\u001b[38;5;132;01m}\u001b[39;00m\u001b[38;5;124m'\u001b[39m)\n\u001b[1;32m      5\u001b[0m \u001b[38;5;28mprint\u001b[39m(\u001b[38;5;124mf\u001b[39m\u001b[38;5;124m'\u001b[39m\u001b[38;5;124mMultiplication : \u001b[39m\u001b[38;5;132;01m{\u001b[39;00mx\u001b[38;5;250m \u001b[39m\u001b[38;5;241m*\u001b[39m\u001b[38;5;250m \u001b[39my\u001b[38;5;250m \u001b[39m\u001b[38;5;132;01m:\u001b[39;00m\u001b[38;5;124m.2f\u001b[39m\u001b[38;5;132;01m}\u001b[39;00m\u001b[38;5;124m'\u001b[39m)\n\u001b[0;32m----> 6\u001b[0m \u001b[38;5;28mprint\u001b[39m(\u001b[38;5;124mf\u001b[39m\u001b[38;5;124m'\u001b[39m\u001b[38;5;124mDivision : \u001b[39m\u001b[38;5;132;01m{\u001b[39;00mx\u001b[38;5;250m \u001b[39m\u001b[38;5;241m/\u001b[39m\u001b[38;5;250m \u001b[39my\u001b[38;5;250m \u001b[39m\u001b[38;5;132;01m:\u001b[39;00m\u001b[38;5;124m.2f\u001b[39m\u001b[38;5;132;01m}\u001b[39;00m\u001b[38;5;124m'\u001b[39m)\n",
      "\u001b[0;31mZeroDivisionError\u001b[0m: float division by zero"
     ]
    }
   ],
   "source": [
    "x = float(input(\"Enter Number 1: \\n\"))\n",
    "y = float(input(\"Enter Number 2: \\n\"))\n",
    "print(f'Addition : {x + y :.2f}')\n",
    "print(f'Subtraction : {x - y :.2f}')\n",
    "print(f'Multiplication : {x * y :.2f}')\n",
    "print(f'Division : {x / y :.2f}')"
   ]
  },
  {
   "cell_type": "markdown",
   "id": "d25b0b9b",
   "metadata": {},
   "source": [
    "#### 1a. Handle Division by 0 Condition in above code."
   ]
  },
  {
   "cell_type": "code",
   "execution_count": 15,
   "id": "2e4cdb94",
   "metadata": {},
   "outputs": [
    {
     "name": "stdout",
     "output_type": "stream",
     "text": [
      "Enter Number 1: \n",
      "wer\n"
     ]
    },
    {
     "ename": "ValueError",
     "evalue": "could not convert string to float: 'wer'",
     "output_type": "error",
     "traceback": [
      "\u001b[0;31m---------------------------------------------------------------------------\u001b[0m",
      "\u001b[0;31mValueError\u001b[0m                                Traceback (most recent call last)",
      "Cell \u001b[0;32mIn[15], line 1\u001b[0m\n\u001b[0;32m----> 1\u001b[0m x \u001b[38;5;241m=\u001b[39m \u001b[38;5;28mfloat\u001b[39m(\u001b[38;5;28minput\u001b[39m(\u001b[38;5;124m\"\u001b[39m\u001b[38;5;124mEnter Number 1: \u001b[39m\u001b[38;5;130;01m\\n\u001b[39;00m\u001b[38;5;124m\"\u001b[39m))\n\u001b[1;32m      2\u001b[0m y \u001b[38;5;241m=\u001b[39m \u001b[38;5;28mfloat\u001b[39m(\u001b[38;5;28minput\u001b[39m(\u001b[38;5;124m\"\u001b[39m\u001b[38;5;124mEnter Number 2: \u001b[39m\u001b[38;5;130;01m\\n\u001b[39;00m\u001b[38;5;124m\"\u001b[39m))\n\u001b[1;32m      3\u001b[0m \u001b[38;5;28mprint\u001b[39m(\u001b[38;5;124mf\u001b[39m\u001b[38;5;124m'\u001b[39m\u001b[38;5;124mAddition : \u001b[39m\u001b[38;5;132;01m{\u001b[39;00mx\u001b[38;5;250m \u001b[39m\u001b[38;5;241m+\u001b[39m\u001b[38;5;250m \u001b[39my\u001b[38;5;250m \u001b[39m\u001b[38;5;132;01m:\u001b[39;00m\u001b[38;5;124m.2f\u001b[39m\u001b[38;5;132;01m}\u001b[39;00m\u001b[38;5;124m'\u001b[39m)\n",
      "\u001b[0;31mValueError\u001b[0m: could not convert string to float: 'wer'"
     ]
    }
   ],
   "source": [
    "x = float(input(\"Enter Number 1: \\n\"))\n",
    "y = float(input(\"Enter Number 2: \\n\"))\n",
    "print(f'Addition : {x + y :.2f}')\n",
    "print(f'Subtraction : {x - y :.2f}')\n",
    "print(f'Multiplication : {x * y :.2f}')\n",
    "try:\n",
    "    print(f'Division : {x / y :.2f}')\n",
    "except ZeroDivisionError:\n",
    "    print(\"Division by Zero Exception\")"
   ]
  },
  {
   "cell_type": "markdown",
   "id": "7e113d4f",
   "metadata": {},
   "source": [
    "#### 1c. Handle Error thrown due to non int/float input."
   ]
  },
  {
   "cell_type": "code",
   "execution_count": 16,
   "id": "6bb4f6ad",
   "metadata": {},
   "outputs": [
    {
     "name": "stdout",
     "output_type": "stream",
     "text": [
      "Enter Number 1: \n",
      "qwe\n",
      "Enter int/float only.\n",
      "Enter Number 1: \n",
      "100\n",
      "Enter Number 2: \n",
      "0\n",
      "Addition : 100.00\n",
      "Subtraction : 100.00\n",
      "Multiplication : 0.00\n",
      "Division by Zero Exception\n"
     ]
    }
   ],
   "source": [
    "validinput = False\n",
    "while not validinput:\n",
    "    try:\n",
    "        x = float(input(\"Enter Number 1: \\n\"))\n",
    "        y = float(input(\"Enter Number 2: \\n\"))\n",
    "        validinput = True\n",
    "    except ValueError:\n",
    "        print(\"Enter int/float only.\")\n",
    "print(f'Addition : {x + y :.2f}')\n",
    "print(f'Subtraction : {x - y :.2f}')\n",
    "print(f'Multiplication : {x * y :.2f}')\n",
    "try:\n",
    "    print(f'Division : {x / y :.2f}')\n",
    "except ZeroDivisionError:\n",
    "    print(\"Division by Zero Exception\")"
   ]
  },
  {
   "cell_type": "markdown",
   "id": "2a47c315",
   "metadata": {},
   "source": [
    "#### 1d. Continue the Program unless User declines."
   ]
  },
  {
   "cell_type": "code",
   "execution_count": 4,
   "id": "f0e11ec0",
   "metadata": {},
   "outputs": [
    {
     "name": "stdout",
     "output_type": "stream",
     "text": [
      "Enter Number 1: \n",
      "12\n",
      "Enter Number 2: \n",
      "0\n",
      "Addition : 12.00\n",
      "Subtraction : 12.00\n",
      "Multiplication : 0.00\n",
      "Division by Zero Exception\n",
      "Do you want to continue ? Press n for No, Anything else for Yes: \n",
      "\n",
      "Enter Number 1: \n",
      "12\n",
      "Enter Number 2: \n",
      "20\n",
      "Addition : 32.00\n",
      "Subtraction : -8.00\n",
      "Multiplication : 240.00\n",
      "Division : 0.60\n",
      "Do you want to continue ? Press n for No, Anything else for Yes: \n",
      "\n",
      "Enter Number 1: \n",
      "0\n",
      "Enter Number 2: \n",
      "0\n",
      "Addition : 0.00\n",
      "Subtraction : 0.00\n",
      "Multiplication : 0.00\n",
      "Division by Zero Exception\n",
      "Do you want to continue ? Press n for No, Anything else for Yes: \n",
      "N\n",
      "Thanks !!\n"
     ]
    }
   ],
   "source": [
    "user_decision = True\n",
    "while user_decision:\n",
    "    validinput = False\n",
    "    while not validinput:\n",
    "        try:\n",
    "            x = float(input(\"Enter Number 1: \\n\"))\n",
    "            y = float(input(\"Enter Number 2: \\n\"))\n",
    "            validinput = True\n",
    "        except ValueError:\n",
    "            print(\"Enter int/float only.\")\n",
    "    print(f'Addition : {x + y :.2f}')\n",
    "    print(f'Subtraction : {x - y :.2f}')\n",
    "    print(f'Multiplication : {x * y :.2f}')\n",
    "    try:\n",
    "        print(f'Division : {x / y :.2f}')\n",
    "    except ZeroDivisionError:\n",
    "        print(\"Division by Zero Exception\")\n",
    "    decision = input(\"Do you want to continue ? Press n for No, Anything else for Yes: \\n\")\n",
    "    if decision.lower() == 'n':\n",
    "        print(\"Thanks !!\")\n",
    "        user_decision = False\n",
    "    "
   ]
  },
  {
   "cell_type": "markdown",
   "id": "3ae08f86",
   "metadata": {},
   "source": [
    "### 2. Write a program that calculates the arithmetic mean of two numbers. Implement all possible functionality from Question 1."
   ]
  },
  {
   "cell_type": "code",
   "execution_count": 7,
   "id": "e638d445",
   "metadata": {},
   "outputs": [
    {
     "name": "stdout",
     "output_type": "stream",
     "text": [
      "Enter Number 1: \n",
      "12\n",
      "Enter Number 2: \n",
      "13\n",
      "Airthmatic mean of 12.0 & 13.0 is 12.50\n",
      "Do you want to continue ? Press n for No, Anything else for Yes: \n",
      "n\n",
      "Thanks !!\n"
     ]
    }
   ],
   "source": [
    "user_decision = True\n",
    "while user_decision:\n",
    "    validinput = False\n",
    "    while not validinput:\n",
    "        try:\n",
    "            x = float(input(\"Enter Number 1: \\n\"))\n",
    "            y = float(input(\"Enter Number 2: \\n\"))\n",
    "            validinput = True\n",
    "        except ValueError:\n",
    "            print(\"Enter int/float only.\")\n",
    "    print(f'Airthmatic mean of {x} & {y} is {(x+y)/2 :.2f}')\n",
    "\n",
    "    decision = input(\"Do you want to continue ? Press n for No, Anything else for Yes: \\n\")\n",
    "    if decision.lower() == 'n':\n",
    "        print(\"Thanks !!\")\n",
    "        user_decision = False\n"
   ]
  },
  {
   "cell_type": "markdown",
   "id": "90939f8b",
   "metadata": {},
   "source": [
    "### 3. Enhance code from Question 2 , Take N input from user & calculate their Airthmatic Mean."
   ]
  },
  {
   "cell_type": "code",
   "execution_count": 5,
   "id": "baa9652f",
   "metadata": {},
   "outputs": [
    {
     "name": "stdout",
     "output_type": "stream",
     "text": [
      "Enter Number 1 :\n",
      "12\n",
      "Do you want to enter more numbers? Press 'n' for No, anything else for Yes: \n",
      "\n",
      "Enter Number 2 :\n",
      "34\n",
      "Do you want to enter more numbers? Press 'n' for No, anything else for Yes: \n",
      "\n",
      "Enter Number 3 :\n",
      "50\n",
      "Do you want to enter more numbers? Press 'n' for No, anything else for Yes: \n",
      "\n",
      "Enter Number 4 :\n",
      "-45\n",
      "Do you want to enter more numbers? Press 'n' for No, anything else for Yes: \n",
      "n\n",
      "Let's calculate the Arithmetic mean of 4 numbers.\n",
      "Arithmetic mean of 4 numbers is 12.75\n",
      "Do you want to continue? Press 'n' for No, anything else for Yes: \n",
      "\n",
      "Enter Number 1 :\n",
      "10\n",
      "Do you want to enter more numbers? Press 'n' for No, anything else for Yes: \n",
      "-10\n",
      "Enter Number 2 :\n",
      "-20\n",
      "Do you want to enter more numbers? Press 'n' for No, anything else for Yes: \n",
      "\n",
      "Enter Number 3 :\n",
      "10\n",
      "Do you want to enter more numbers? Press 'n' for No, anything else for Yes: \n",
      "\n",
      "Enter Number 4 :\n",
      "-20\n",
      "Do you want to enter more numbers? Press 'n' for No, anything else for Yes: \n",
      "n\n",
      "Let's calculate the Arithmetic mean of 4 numbers.\n",
      "Arithmetic mean of 4 numbers is -5.00\n",
      "Do you want to continue? Press 'n' for No, anything else for Yes: \n",
      "n\n",
      "Thanks!!\n"
     ]
    }
   ],
   "source": [
    "user_decision = True\n",
    "while user_decision:\n",
    "    more_input = True\n",
    "    user_inputs = []\n",
    "\n",
    "    while more_input:\n",
    "        valid_input = False \n",
    "        while not valid_input:\n",
    "            try:\n",
    "                user_input = float(input(f'Enter Number {len(user_inputs) + 1} :\\n'))\n",
    "                user_inputs.append(user_input)\n",
    "                valid_input = True\n",
    "            except ValueError:\n",
    "                print(\"Enter int/float only.\")\n",
    "        \n",
    "        decision_more_input = input(\"Do you want to enter more numbers? Press 'n' for No, anything else for Yes: \\n\")\n",
    "        if decision_more_input.lower() == 'n':\n",
    "            print(f\"Let's calculate the Arithmetic mean of {len(user_inputs)} numbers.\")\n",
    "            more_input = False\n",
    "\n",
    "    print(f'Arithmetic mean of {len(user_inputs)} numbers is {sum(user_inputs) / len(user_inputs):.2f}')\n",
    "            \n",
    "    decision = input(\"Do you want to continue? Press 'n' for No, anything else for Yes: \\n\")\n",
    "    if decision.lower() == 'n':\n",
    "        print(\"Thanks!!\")\n",
    "        user_decision = False\n"
   ]
  },
  {
   "cell_type": "markdown",
   "id": "fec376d0",
   "metadata": {},
   "source": [
    "#### 3a. Enhance above code, where user enter another number immediately rather than pressing Y & then Enter number. if user enters n, assume no further input are required now & then calculate Airthmatic Mean.\n",
    "\n",
    "##### Effectively getting rid of this line/functionality - Do you want to enter more numbers? Press 'n' for No, anything else for Yes: "
   ]
  },
  {
   "cell_type": "code",
   "execution_count": 24,
   "id": "2a11b6a4",
   "metadata": {},
   "outputs": [
    {
     "name": "stdout",
     "output_type": "stream",
     "text": [
      "Enter Number 1 or Press n in case dont want to enter further numbers:0\n",
      "Enter Number 2 or Press n in case dont want to enter further numbers:0\n",
      "Enter Number 3 or Press n in case dont want to enter further numbers:0\n",
      "Enter Number 4 or Press n in case dont want to enter further numbers:n\n",
      "Airthmatic mean of 3 given number is 0.00\n",
      "Do you want to continue ? Press n for No, Anything else for Yes: \n",
      "n\n",
      "Thanks !!\n"
     ]
    }
   ],
   "source": [
    "user_decision = True\n",
    "while user_decision:\n",
    "    user_inputs = []\n",
    "    user_input = 'a'\n",
    "    while user_input.lower() != 'n':\n",
    "        user_input = input(f'Enter Number {len(user_inputs)+1} or Press n in case dont want to enter further numbers:').strip()\n",
    "        #Strip is used to handled ' n  ' input in first go itself.\n",
    "        if user_input.lower() != 'n':\n",
    "            try:\n",
    "                user_inputs.append(float(user_input))\n",
    "            except ValueError:\n",
    "                print(\"Enter Int or Float only\")\n",
    "    if (len(user_inputs) == 0):\n",
    "        print(\"No number entered for Calculation of Airthmatic mean.\\n\")\n",
    "    else:\n",
    "        print(f'Airthmatic mean of {len(user_inputs)} given number is {sum(user_inputs)/len(user_inputs):.2f}')\n",
    "    decision = input(\"Do you want to continue ? Press n for No, Anything else for Yes: \\n\")\n",
    "    if decision.lower() == 'n':\n",
    "        print(\"Thanks !!\")\n",
    "        user_decision = False\n",
    "    "
   ]
  },
  {
   "cell_type": "markdown",
   "id": "c0eb2cc4",
   "metadata": {},
   "source": [
    "### 4. Calculate Geomatric mean of N number."
   ]
  },
  {
   "cell_type": "code",
   "execution_count": 32,
   "id": "44905bac",
   "metadata": {},
   "outputs": [
    {
     "name": "stdout",
     "output_type": "stream",
     "text": [
      "Enter Number 1 or Press n in case dont want to enter further numbers:78\n",
      "Enter Number 2 or Press n in case dont want to enter further numbers:-90\n",
      "Enter Number 3 or Press n in case dont want to enter further numbers:n\n"
     ]
    },
    {
     "ename": "ValueError",
     "evalue": "math domain error",
     "output_type": "error",
     "traceback": [
      "\u001b[0;31m---------------------------------------------------------------------------\u001b[0m",
      "\u001b[0;31mValueError\u001b[0m                                Traceback (most recent call last)",
      "Cell \u001b[0;32mIn[32], line 19\u001b[0m\n\u001b[1;32m     17\u001b[0m \u001b[38;5;28;01melse\u001b[39;00m:\n\u001b[1;32m     18\u001b[0m     product \u001b[38;5;241m=\u001b[39m reduce(\u001b[38;5;28;01mlambda\u001b[39;00m x,y: x\u001b[38;5;241m*\u001b[39my , user_inputs)\n\u001b[0;32m---> 19\u001b[0m     geomatric_mean \u001b[38;5;241m=\u001b[39m \u001b[38;5;28mpow\u001b[39m(product, \u001b[38;5;241m1\u001b[39m\u001b[38;5;241m/\u001b[39m\u001b[38;5;28mlen\u001b[39m(user_inputs))\n\u001b[1;32m     20\u001b[0m     \u001b[38;5;28mprint\u001b[39m(\u001b[38;5;124mf\u001b[39m\u001b[38;5;124m'\u001b[39m\u001b[38;5;124mGeomatric mean of \u001b[39m\u001b[38;5;132;01m{\u001b[39;00m\u001b[38;5;28mlen\u001b[39m(user_inputs)\u001b[38;5;132;01m}\u001b[39;00m\u001b[38;5;124m given number is \u001b[39m\u001b[38;5;132;01m{\u001b[39;00mgeomatric_mean\u001b[38;5;132;01m:\u001b[39;00m\u001b[38;5;124m.2f\u001b[39m\u001b[38;5;132;01m}\u001b[39;00m\u001b[38;5;124m'\u001b[39m)\n\u001b[1;32m     21\u001b[0m decision \u001b[38;5;241m=\u001b[39m \u001b[38;5;28minput\u001b[39m(\u001b[38;5;124m\"\u001b[39m\u001b[38;5;124mDo you want to continue ? Press n for No, Anything else for Yes: \u001b[39m\u001b[38;5;130;01m\\n\u001b[39;00m\u001b[38;5;124m\"\u001b[39m)\n",
      "\u001b[0;31mValueError\u001b[0m: math domain error"
     ]
    }
   ],
   "source": [
    "from functools import reduce\n",
    "from math import pow\n",
    "user_decision = True\n",
    "while user_decision:\n",
    "    user_inputs = []\n",
    "    user_input = 'a'\n",
    "    while user_input.lower() != 'n':\n",
    "        user_input = input(f'Enter Number {len(user_inputs)+1} or Press n in case dont want to enter further numbers:').strip()\n",
    "        #Strip is used to handled ' n  ' input in first go itself.\n",
    "        if user_input.lower() != 'n':\n",
    "            try:\n",
    "                user_inputs.append(float(user_input))\n",
    "            except ValueError:\n",
    "                print(\"Enter Int or Float only\")\n",
    "    if (len(user_inputs) == 0):\n",
    "        print(\"No number entered for Calculation of Airthmatic mean.\\n\")\n",
    "    else:\n",
    "        product = reduce(lambda x,y: x*y , user_inputs)\n",
    "        geomatric_mean = pow(product, 1/len(user_inputs))\n",
    "        print(f'Geomatric mean of {len(user_inputs)} given number is {geomatric_mean:.2f}')\n",
    "    decision = input(\"Do you want to continue ? Press n for No, Anything else for Yes: \\n\")\n",
    "    if decision.lower() == 'n':\n",
    "        print(\"Thanks !!\")\n",
    "        user_decision = False"
   ]
  },
  {
   "cell_type": "markdown",
   "id": "2fbbfd90",
   "metadata": {},
   "source": [
    "#### 4a. Handle condition where Negative numbers are not accepted for Geomatric Mean."
   ]
  },
  {
   "cell_type": "code",
   "execution_count": 33,
   "id": "585b73e6",
   "metadata": {},
   "outputs": [
    {
     "name": "stdout",
     "output_type": "stream",
     "text": [
      "Enter Number 1 or Press n in case dont want to enter further numbers:67\n",
      "Enter Number 2 or Press n in case dont want to enter further numbers:-90\n",
      "Do not enter negative numbers.\n",
      "\n",
      "Enter Number 2 or Press n in case dont want to enter further numbers:65\n",
      "Enter Number 3 or Press n in case dont want to enter further numbers:fg\n",
      "Enter Int or Float only\n",
      "Enter Number 3 or Press n in case dont want to enter further numbers:0\n",
      "Do not enter negative numbers.\n",
      "\n",
      "Enter Number 3 or Press n in case dont want to enter further numbers:4\n",
      "Enter Number 4 or Press n in case dont want to enter further numbers:n\n",
      "Geomatric mean of 3 given number is 25.92\n",
      "Do you want to continue ? Press n for No, Anything else for Yes: \n",
      "n\n",
      "Thanks !!\n"
     ]
    }
   ],
   "source": [
    "from functools import reduce\n",
    "from math import pow\n",
    "user_decision = True\n",
    "while user_decision:\n",
    "    user_inputs = []\n",
    "    user_input = 'a'\n",
    "    while user_input.lower() != 'n':\n",
    "        user_input = input(f'Enter Number {len(user_inputs)+1} or Press n in case dont want to enter further numbers:').strip()\n",
    "        #Strip is used to handled ' n  ' input in first go itself.\n",
    "        if user_input.lower() != 'n':\n",
    "            try:\n",
    "                if float(user_input) > 0:\n",
    "                    user_inputs.append(float(user_input))\n",
    "                else:\n",
    "                    print(\"Do not enter negative numbers or zero.\\n\")\n",
    "            except ValueError:\n",
    "    if (len(user_inputs) == 0):\n",
    "        print(\"No number entered for Calculation of Airthmatic mean.\\n\")\n",
    "    else:\n",
    "        product = reduce(lambda x,y: x*y , user_inputs)\n",
    "        geomatric_mean = pow(product, 1/len(user_inputs))\n",
    "        print(f'Geomatric mean of {len(user_inputs)} given number is {geomatric_mean:.2f}')\n",
    "    decision = input(\"Do you want to continue ? Press n for No, Anything else for Yes: \\n\")\n",
    "    if decision.lower() == 'n':\n",
    "        print(\"Thanks !!\")\n",
    "        user_decision = False"
   ]
  },
  {
   "cell_type": "markdown",
   "id": "235a222d",
   "metadata": {},
   "source": [
    "### 5. Write a program that calculates the BMI of an individual, Using the formula BMI = weight / height². Use Functions."
   ]
  },
  {
   "cell_type": "code",
   "execution_count": 5,
   "id": "f20bb029",
   "metadata": {},
   "outputs": [
    {
     "name": "stdout",
     "output_type": "stream",
     "text": [
      "Please enter your weight in Kilogram.\n",
      "109\n",
      "Please enter your hight in meters.\n",
      "1.8\n",
      "Your BMI with hight 1.8m and weight 109.0kg is 33.64\n"
     ]
    }
   ],
   "source": [
    "def user_input():\n",
    "    userin = False\n",
    "    while not userin:\n",
    "        try:\n",
    "            weight = float(input(\"Please enter your weight in Kilogram.\\n\"))\n",
    "            height = float(input(\"Please enter your height in meters.\\n\"))\n",
    "            if weight > 0 and height > 0:\n",
    "                userin = True\n",
    "            else:\n",
    "                print(\"Please dont enter Zero/Negatives.\\n\")\n",
    "        except ValueError:\n",
    "            print(\"Please enter positive numbers only.\\n\")\n",
    "    \n",
    "    return weight, height\n",
    "\n",
    "def bmi_calculator(weight, height):\n",
    "    print(f'Your BMI with height {height}m and weight {weight}kg is {weight/(height**2) :.2f}')\n",
    "\n",
    "weight, height = user_input()\n",
    "bmi_calculator(weight, height)\n"
   ]
  },
  {
   "cell_type": "markdown",
   "id": "7841a031",
   "metadata": {},
   "source": [
    "### 6. Create a program that calculates and displays the perimeter of a circle, prompting the user for the radius."
   ]
  },
  {
   "cell_type": "code",
   "execution_count": 8,
   "id": "c46b7dcb",
   "metadata": {},
   "outputs": [
    {
     "name": "stdout",
     "output_type": "stream",
     "text": [
      "Please enter radius of the circle.\n",
      "-90\n",
      "Please dont enter Zero/Negatives.\n",
      "\n",
      "Please enter radius of the circle.\n",
      "wed\n",
      "Please enter positive numbers only.\n",
      "\n",
      "Please enter radius of the circle.\n",
      "      \n",
      "Please enter positive numbers only.\n",
      "\n",
      "Please enter radius of the circle.\n",
      "5\n",
      "Permiter of circle with radius 5.0 is 31.42\n"
     ]
    }
   ],
   "source": [
    "from math import pi\n",
    "def user_input():\n",
    "    userin = False\n",
    "    while not userin:\n",
    "        try:\n",
    "            radius = float(input(\"Please enter radius of the circle.\\n\"))\n",
    "            if radius > 0:\n",
    "                userin = True\n",
    "            else:\n",
    "                print(\"Please dont enter Zero/Negatives.\\n\")\n",
    "        except ValueError:\n",
    "            print(\"Please enter positive numbers only.\\n\")\n",
    "    \n",
    "    return radius\n",
    "\n",
    "def perimeter_calculator(radius):\n",
    "    print(f'Perimeter of circle with radius {radius} is {2*pi*radius :.2f}')\n",
    "\n",
    "radius = user_input()\n",
    "permiter_calculator(radius)"
   ]
  },
  {
   "cell_type": "markdown",
   "id": "3ded620a",
   "metadata": {},
   "source": [
    "### 7. Write a program that calculates the area of a circle from the radius, using the formula A = πr²"
   ]
  },
  {
   "cell_type": "code",
   "execution_count": 9,
   "id": "db89d2ea",
   "metadata": {},
   "outputs": [
    {
     "name": "stdout",
     "output_type": "stream",
     "text": [
      "Please enter radius of the circle.\n",
      "-9\n",
      "Please dont enter Zero/Negatives.\n",
      "\n",
      "Please enter radius of the circle.\n",
      "3er4\n",
      "Please enter positive numbers only.\n",
      "\n",
      "Please enter radius of the circle.\n",
      "       nnnn\n",
      "Please enter positive numbers only.\n",
      "\n",
      "Please enter radius of the circle.\n",
      "5\n",
      "Area of circle with radius 5.0 is 78.54\n"
     ]
    }
   ],
   "source": [
    "from math import pi\n",
    "def user_input():\n",
    "    userin = False\n",
    "    while not userin:\n",
    "        try:\n",
    "            radius = float(input(\"Please enter radius of the circle.\\n\"))\n",
    "            if radius > 0:\n",
    "                userin = True\n",
    "            else:\n",
    "                print(\"Please dont enter Zero/Negatives.\\n\")\n",
    "        except ValueError:\n",
    "            print(\"Please enter positive numbers only.\\n\")\n",
    "    \n",
    "    return radius\n",
    "\n",
    "def area_calculator(radius):\n",
    "    print(f'Area of circle with radius {radius} is {pi*(radius**2) :.2f}')\n",
    "\n",
    "radius = user_input()\n",
    "area_calculator(radius)"
   ]
  },
  {
   "cell_type": "markdown",
   "id": "d66c6ee4",
   "metadata": {},
   "source": [
    "### 8.Write a program that calculates the delta of a quadratic equation (Δ = b² - 4ac)."
   ]
  },
  {
   "cell_type": "code",
   "execution_count": 12,
   "id": "bd381d09",
   "metadata": {},
   "outputs": [
    {
     "name": "stdout",
     "output_type": "stream",
     "text": [
      "Please enter value of b.\n",
      "5\n",
      "Please enter value of a.\n",
      "6\n",
      "Please enter value of c.\n",
      "7 \n",
      "delta of Quadratic equation with b=5.0,a=6.0 & c=7.0 is -143.00\n"
     ]
    }
   ],
   "source": [
    "def user_input():\n",
    "    userin = False\n",
    "    while not userin:\n",
    "        try:\n",
    "            b = float(input(\"Please enter value of b.\\n\"))\n",
    "            a = float(input(\"Please enter value of a.\\n\"))\n",
    "            c = float(input(\"Please enter value of c.\\n\"))\n",
    "            userin = True\n",
    "        except ValueError:\n",
    "            print(\"Please enter valid numbers only.\\n\")\n",
    "    \n",
    "    return b,a,c\n",
    "\n",
    "def delta_calculator(b,a,c):\n",
    "    print(f'delta of Quadratic equation with b={b},a={a} & c={c} is {(b**2)-4*a*c :.2f}')\n",
    "\n",
    "b,a,c = user_input()\n",
    "delta_calculator(b,a,c)"
   ]
  },
  {
   "cell_type": "markdown",
   "id": "6c44759d",
   "metadata": {},
   "source": [
    "### 9. Write a program that calculates the perimeter and area of a rectangle, using the formulas P = 2(w + l) and A = wl, where w is the width and l is the length."
   ]
  },
  {
   "cell_type": "code",
   "execution_count": 1,
   "id": "a7edb522",
   "metadata": {},
   "outputs": [
    {
     "name": "stdout",
     "output_type": "stream",
     "text": [
      "Please enter Length of Rectangle.\n",
      "-9\n",
      "Please enter width of Rectangle.\n",
      "8\n",
      "Please dont enter negatives.\n",
      "Please enter Length of Rectangle.\n",
      "we\n",
      "Please enter valid numbers only.\n",
      "\n",
      "Please enter Length of Rectangle.\n",
      "5\n",
      "Please enter width of Rectangle.\n",
      "4\n",
      "Rectanglw with width 4.0 and length 5.0 has area 20.00 and perimeter 18.00\n",
      "Do you want to continue ? Press n for No, Anything else for yes\n",
      "Please enter Length of Rectangle.\n",
      "5\n",
      "Please enter width of Rectangle.\n",
      "7\n",
      "Rectanglw with width 7.0 and length 5.0 has area 35.00 and perimeter 24.00\n",
      "Do you want to continue ? Press n for No, Anything else for yesn\n"
     ]
    }
   ],
   "source": [
    "def user_input():\n",
    "    userin = False\n",
    "    while not userin:\n",
    "        try:\n",
    "            length = float(input(\"Please enter Length of Rectangle.\\n\")).strip()\n",
    "            width = float(input(\"Please enter width of Rectangle.\\n\")).strip()\n",
    "            if length > 0 and width > 0:\n",
    "                userin = True\n",
    "            else:\n",
    "                print(\"Please dont enter negatives.\")\n",
    "        except ValueError:\n",
    "            print(\"Please enter valid numbers only.\\n\")\n",
    "    \n",
    "    return length, width\n",
    "\n",
    "def area_peri_calc(length, width):\n",
    "    print(f'Rectangle with width {width} and length {length} has area {length * width :.2f} and perimeter {2*(width + length) :.2f}')\n",
    "    \n",
    "\n",
    "user_decision = False\n",
    "while not user_decision:\n",
    "    length, width = user_input()\n",
    "    area_peri_calc(length, width)\n",
    "    user_decision = input(\"Do you want to continue ? Press n for No, Anything else for yes.\\n\").strip().lower() == 'n'"
   ]
  },
  {
   "cell_type": "markdown",
   "id": "ad58b64f",
   "metadata": {},
   "source": [
    "#### 9a. In above code, we are asking the both length & width again if any one of them is Negative, Fix it. Add a main() method for more Pythonic Code."
   ]
  },
  {
   "cell_type": "code",
   "execution_count": 2,
   "id": "eb35234d",
   "metadata": {},
   "outputs": [
    {
     "name": "stdout",
     "output_type": "stream",
     "text": [
      "Please enter Length of Rectangle.\n",
      "-9\n",
      "value must be positive.\n",
      "\n",
      "Please enter Length of Rectangle.\n",
      "8\n",
      "Please enter Width of Rectangle.\n",
      "-9\n",
      "value must be positive.\n",
      "\n",
      "Please enter Width of Rectangle.\n",
      "sdd\n",
      "Please enter valid numbers.\n",
      "\n",
      "Please enter Width of Rectangle.\n",
      "9\n",
      "Rectangle with width 7.0 and length 8.0 has area 56.00 and perimeter 30.00\n",
      "Do you want to continue, Press n for N, Anything else for Yes\n",
      "Please enter Length of Rectangle.\n",
      "6\n",
      "Please enter Width of Rectangle.\n",
      "7\n",
      "Rectangle with width 7.0 and length 6.0 has area 42.00 and perimeter 26.00\n",
      "Do you want to continue, Press n for N, Anything else for Yesn\n"
     ]
    }
   ],
   "source": [
    "def user_input(prompt):\n",
    "    while True:\n",
    "        try:\n",
    "            value = float(input(prompt).strip())\n",
    "            if value > 0:\n",
    "                return value\n",
    "            print(\"value must be positive.\\n\")\n",
    "        except ValueError:\n",
    "            print(\"Please enter valid numbers.\\n\")\n",
    "def area_peri_calc(length, widht):\n",
    "    print(f'Rectangle with width {width} and length {length} has area {length * width :.2f} and perimeter {2*(width + length) :.2f}')\n",
    "    \n",
    "\n",
    "def main():\n",
    "    while True:\n",
    "        length = user_input(\"Please enter Length of Rectangle.\\n\")\n",
    "        width = user_input(\"Please enter Width of Rectangle.\\n\")\n",
    "        area_peri_calc(length, width)       \n",
    "        \n",
    "        if (input(\"Do you want to continue, Press n for N, Anything else for Yes\").strip().lower() == 'n'):\n",
    "            break\n",
    "            \n",
    "if __name__ == '__main__':\n",
    "    main()"
   ]
  },
  {
   "cell_type": "markdown",
   "id": "a6b43e18",
   "metadata": {},
   "source": [
    "### 10. Write a program that calculates the perimeter and area of a triangle, using the formulas P = a + b + c"
   ]
  },
  {
   "cell_type": "code",
   "execution_count": 3,
   "id": "9dcb72a4",
   "metadata": {},
   "outputs": [
    {
     "name": "stdout",
     "output_type": "stream",
     "text": [
      "Please enter value of side a\n",
      "-9\n",
      "Value must be positive.\n",
      "\n",
      "Please enter value of side a\n",
      "12\n",
      "Please enter value of side b\n",
      "wed\n",
      "Please enter valid numbers.\n",
      "\n",
      "Please enter value of side b\n",
      "     23\n",
      "Please enter value of side c\n",
      "   23fvfv\n",
      "Please enter valid numbers.\n",
      "\n",
      "Please enter value of side c\n",
      "5\n",
      "Perimeter of traingle with sides 12.0, 23.0 , 5.0 is 20.00 \n",
      "\n",
      "Do you want to continue, Press n for N, Anything else for Yes.\n",
      "\n",
      "Please enter value of side a\n",
      "3\n",
      "Please enter value of side b\n",
      "4\n",
      "Please enter value of side c\n",
      "0\n",
      "Value must be positive.\n",
      "\n",
      "Please enter value of side c\n",
      "5\n",
      "Perimeter of traingle with sides 3.0, 4.0 , 5.0 is 6.00 \n",
      "\n",
      "Do you want to continue, Press n for N, Anything else for Yes.\n",
      "n\n"
     ]
    }
   ],
   "source": [
    "def user_input(prompt):\n",
    "    while True:\n",
    "        try:\n",
    "            value = float(input(prompt).strip())\n",
    "            if value > 0:\n",
    "                return value\n",
    "            print(\"Value must be positive.\\n\")\n",
    "        except ValueError:\n",
    "            print(\"Please enter valid numbers.\\n\")\n",
    "def peri_calc(a,b,c):\n",
    "    print(f'Perimeter of traingle with sides {a}, {b} , {c} is {(a+b+c)/2 :.2f} \\n')\n",
    "    \n",
    "\n",
    "def main():\n",
    "    while True:\n",
    "        a = user_input(\"Please enter value of side a\\n\")\n",
    "        b = user_input(\"Please enter value of side b\\n\")\n",
    "        c = user_input(\"Please enter value of side c\\n\")\n",
    "        peri_calc(a,b,c)       \n",
    "        \n",
    "        if (input(\"Do you want to continue, Press n for N, Anything else for Yes.\\n\").strip().lower() == 'n'):\n",
    "            break\n",
    "            \n",
    "if __name__ == '__main__':\n",
    "    main()"
   ]
  },
  {
   "cell_type": "markdown",
   "id": "efed2f4b",
   "metadata": {},
   "source": [
    "### 11. Write a program that calculates the average velocity of an object, using the formula v = Δs/Δt, where v is the average velocity, Δs is the space variation, and Δt is the time variation."
   ]
  },
  {
   "cell_type": "code",
   "execution_count": 5,
   "id": "18f5ad04",
   "metadata": {},
   "outputs": [
    {
     "name": "stdout",
     "output_type": "stream",
     "text": [
      "Please enter value of Space Variation.\n",
      "20\n",
      "Please enter value of Time Variation.\n",
      "5\n",
      "Average valocity of object with Space variation 20.0 and time variation 5.0 is 4.00\n",
      "\n",
      "Do you want to continue, Press n for N, Anything else for Yes.\n",
      "n\n"
     ]
    }
   ],
   "source": [
    "def user_input(prompt):\n",
    "    while True:\n",
    "        try:\n",
    "            value = float(input(prompt).strip())\n",
    "            if value > 0:\n",
    "                return value\n",
    "            print(\"Value must be positive.\\n\")\n",
    "        except ValueError:\n",
    "            print(\"Please enter valid numbers.\\n\")\n",
    "def velo_calc(a,b):\n",
    "    print(f'Average valocity of object with Space variation {a} and time variation {b} is {a/b :.2f}\\n')\n",
    "    \n",
    "\n",
    "def main():\n",
    "    while True:\n",
    "        a = user_input(\"Please enter value of Space Variation.\\n\")\n",
    "        b = user_input(\"Please enter value of Time Variation.\\n\")        \n",
    "        velo_calc(a,b)       \n",
    "        \n",
    "        if (input(\"Do you want to continue, Press n for N, Anything else for Yes.\\n\").strip().lower() == 'n'):\n",
    "            break\n",
    "            \n",
    "if __name__ == '__main__':\n",
    "    main()"
   ]
  },
  {
   "cell_type": "markdown",
   "id": "a4c06148",
   "metadata": {},
   "source": [
    "### 12. Write a program that calculates the kinetic energy of a moving object, using the formula E = (mv²) / 2, where E is the kinetic energy, m is the mass of the object, and v is the velocity."
   ]
  },
  {
   "cell_type": "code",
   "execution_count": 7,
   "id": "3c91927f",
   "metadata": {},
   "outputs": [
    {
     "name": "stdout",
     "output_type": "stream",
     "text": [
      "Enter valur of Mass.\n",
      "-9\n",
      "value cant be Negative.\n",
      "\n",
      "Enter valur of Mass.\n",
      "0\n",
      "Enter value of Velocity.\n",
      "7\n",
      "Kinetic Energy of moving obgect with mass 0.0 & valocity 7.0 is 0.00\n",
      "Do you want to continue ? Press n for N, Anything else for Yy\n",
      "Enter valur of Mass.\n",
      "sd\n",
      "Please Enter Positive Numbers.\n",
      "\n",
      "Enter valur of Mass.\n",
      "34\n",
      "Enter value of Velocity.\n",
      "sd\n",
      "Please Enter Positive Numbers.\n",
      "\n",
      "Enter value of Velocity.\n",
      "7\n",
      "Kinetic Energy of moving obgect with mass 34.0 & valocity 7.0 is 833.00\n",
      "Do you want to continue ? Press n for N, Anything else for Yn\n"
     ]
    }
   ],
   "source": [
    "def user_input(prompt):\n",
    "    while True:\n",
    "        try:\n",
    "            value = float(input(prompt).strip())\n",
    "            if value >= 0:\n",
    "                return value\n",
    "            print(\"value cant be Negative.\\n\")\n",
    "        except ValueError:\n",
    "            print(\"Please Enter Positive Numbers.\\n\")\n",
    "\n",
    "def kinetic_calc(mass, velocity):\n",
    "    print(f'Kinetic Energy of moving obgect with mass {mass} & valocity {velocity} is {(mass*(velocity**2))/2 :.2f}')\n",
    "    \n",
    "def main():\n",
    "    while True:\n",
    "        mass = user_input(\"Enter valur of Mass.\\n\")\n",
    "        velocity = user_input(\"Enter value of Velocity.\\n\")\n",
    "        kinetic_calc(mass, velocity)\n",
    "        if input(\"Do you want to continue ? Press n for N, Anything else for Y.\\n\").strip().lower() == 'n':\n",
    "            break\n",
    "if __name__ == \"__main__\":\n",
    "    main()\n",
    "    "
   ]
  },
  {
   "cell_type": "markdown",
   "id": "809c0636",
   "metadata": {},
   "source": [
    "### 13. Write a program that calculates the work done by a force acting on an object, using the formula T = F * d, where T is the work, F is the applied force, and d is the distance traveled by the object."
   ]
  },
  {
   "cell_type": "code",
   "execution_count": 11,
   "id": "46707e3c",
   "metadata": {},
   "outputs": [
    {
     "name": "stdout",
     "output_type": "stream",
     "text": [
      "Enter valur of Mass.\n",
      "er\n",
      "Please Enter Positive Numbers.\n",
      "\n",
      "Enter valur of Mass.\n",
      "   67\n",
      "Enter value of Distance.\n",
      "4\n",
      "Work done when Force 67.0 & distance 4.0 is 268.00\n",
      "Do you want to continue ? Press n for N, Anything else for Y.\n",
      "n\n"
     ]
    }
   ],
   "source": [
    "def user_input(prompt):\n",
    "    while True:\n",
    "        try:\n",
    "            value = float(input(prompt).strip())\n",
    "            if value >= 0:\n",
    "                return value\n",
    "            print(\"value cant be Negative.\\n\")\n",
    "        except ValueError:\n",
    "            print(\"Please Enter Positive Numbers.\\n\")\n",
    "\n",
    "def work_calc(force, distance):\n",
    "    print(f'Work done when Force {force} & distance {distance} is {force * distance :.2f}')\n",
    "    \n",
    "def main():\n",
    "    while True:\n",
    "        mass = user_input(\"Enter valur of Mass.\\n\")\n",
    "        distance = user_input(\"Enter value of Distance.\\n\")\n",
    "        work_calc(mass, distance)\n",
    "        if input(\"Do you want to continue ? Press n for No, Anything else for Yes.\\n\").strip().lower() == 'n':\n",
    "            break\n",
    "if __name__ == \"__main__\":\n",
    "    main()"
   ]
  },
  {
   "cell_type": "markdown",
   "id": "bb54a92e",
   "metadata": {},
   "source": [
    "### 14. Write a program that reads the x and y position of two points in the Cartesian plane, and calculates the distance between them."
   ]
  },
  {
   "cell_type": "code",
   "execution_count": 14,
   "id": "3807d0c1",
   "metadata": {},
   "outputs": [
    {
     "name": "stdout",
     "output_type": "stream",
     "text": [
      "For Point 1, Enter X1\n",
      "12\n",
      "For Point 1, Enter Y1\n",
      "2\n",
      "For Point 2, Enter X2\n",
      "-15\n",
      "For Point 2, Enter Y2\n",
      "5\n",
      "Distance between (12.0,2.0) & (-15.0,5.0) is 27.2\n",
      "Do you want to continue ? Press n for N, Anything else for Y.\n",
      "n\n"
     ]
    }
   ],
   "source": [
    "from math import sqrt\n",
    "def user_input(prompt):\n",
    "    while True:\n",
    "        try:\n",
    "            value = float(input(prompt).strip())\n",
    "            return value            \n",
    "        except ValueError:\n",
    "            print(\"Please Enter Numbers only.\\n\")\n",
    "\n",
    "def distance(x1,y1,x2,y2):\n",
    "    print(f'Distance between ({x1},{y1}) & ({x2},{y2}) is {sqrt((x2-x1)**2 + (y2-y1)**2) :.1f}')\n",
    "    \n",
    "def main():\n",
    "    while True:\n",
    "        x1 = user_input(\"For Point 1, Enter X1\\n\")\n",
    "        y1 = user_input(\"For Point 1, Enter Y1\\n\")\n",
    "        x2 = user_input(\"For Point 2, Enter X2\\n\")\n",
    "        y2 = user_input(\"For Point 2, Enter Y2\\n\")\n",
    "        distance(x1,y1,x2,y2)\n",
    "        if input(\"Do you want to continue ? Press n for No, Anything else for Yes.\\n\").strip().lower() == 'n':\n",
    "            break\n",
    "if __name__ == \"__main__\":\n",
    "    main()"
   ]
  },
  {
   "cell_type": "markdown",
   "id": "c746c522",
   "metadata": {},
   "source": [
    "### 15. Create a program that prompts the user for the radius of a sphere and calculates and displays its volume."
   ]
  },
  {
   "cell_type": "code",
   "execution_count": 15,
   "id": "a115d94a",
   "metadata": {},
   "outputs": [
    {
     "name": "stdout",
     "output_type": "stream",
     "text": [
      "Enter value of Radius.\n",
      "er\n",
      "Enter Numbers only.\n",
      "\n",
      "Enter value of Radius.\n",
      "-9\n",
      "Do not Enter negative values.\n",
      "\n",
      "Enter value of Radius.\n",
      "5\n",
      "Volume of Sphere with radius 5.0 is 523.60\n",
      "Do you want to continue ? Press n for No, Anything else for Yes.\n",
      "y\n",
      "Enter value of Radius.\n",
      "7\n",
      "Volume of Sphere with radius 7.0 is 1436.76\n",
      "Do you want to continue ? Press n for No, Anything else for Yes.\n",
      "n    \n"
     ]
    }
   ],
   "source": [
    "from math import pi\n",
    "\n",
    "def user_input(prompt):\n",
    "    while True:\n",
    "        try:\n",
    "            radius = float(input(prompt).strip())\n",
    "            if radius >= 0:\n",
    "                return radius\n",
    "            print(\"Do not Enter negative values.\\n\")\n",
    "        except ValueError:\n",
    "            print(\"Enter Numbers only.\\n\")\n",
    "\n",
    "def vol_calc(radius):\n",
    "    print(f'Volume of Sphere with radius {radius} is {(4/3)*pi*(radius**3) :.2f}')\n",
    "    \n",
    "def main():\n",
    "    while True:\n",
    "        radius = user_input(\"Enter value of Radius.\\n\")\n",
    "        vol_calc(radius)\n",
    "        if input(\"Do you want to continue ? Press n for No, Anything else for Yes.\\n\").strip().lower() == 'n':\n",
    "            break\n",
    "if __name__ == '__main__':\n",
    "    main()"
   ]
  },
  {
   "cell_type": "markdown",
   "id": "73c22d13",
   "metadata": {},
   "source": [
    "### 16. Make a program that asks for a person's age and displays whether they are of legal age or not."
   ]
  },
  {
   "cell_type": "code",
   "execution_count": 16,
   "id": "f0a0c1f9",
   "metadata": {},
   "outputs": [
    {
     "name": "stdout",
     "output_type": "stream",
     "text": [
      "Enter your age.\n",
      "-87\n",
      "Age cant be negative.\n",
      "\n",
      "Enter your age.\n",
      "sfd\n",
      "Enter Numbers only.\n",
      "\n",
      "Enter your age.\n",
      "21\n",
      "Legal Age.\n",
      "\n",
      "Do you want to continue ? Press n for No, Anything else for Yes.\n",
      "y\n",
      "Enter your age.\n",
      "17.9\n",
      "Illegal Age.\n",
      "\n",
      "Do you want to continue ? Press n for No, Anything else for Yes.\n",
      "y\n",
      "Enter your age.\n",
      "17.9999999\n",
      "Illegal Age.\n",
      "\n",
      "Do you want to continue ? Press n for No, Anything else for Yes.\n",
      "n\n"
     ]
    }
   ],
   "source": [
    "def user_input(prompt):\n",
    "    while True:\n",
    "        try:\n",
    "            age = float(input(prompt).strip())\n",
    "            if age > 0:\n",
    "                return age\n",
    "            print(\"Age cant be negative.\\n\")\n",
    "        except ValueError:\n",
    "            print(\"Enter Numbers only.\\n\")\n",
    "\n",
    "def legal_age(age):\n",
    "    if age >= 18:\n",
    "        print(\"Legal Age.\\n\")\n",
    "    else:\n",
    "        print(\"Illegal Age.\\n\")\n",
    "    \n",
    "def main():\n",
    "    while True:\n",
    "        age = user_input(\"Enter your age.\\n\")\n",
    "        legal_age(age)\n",
    "        if input(\"Do you want to continue ? Press n for No, Anything else for Yes.\\n\").strip().lower() == 'n':\n",
    "            break\n",
    "if __name__ == '__main__':\n",
    "    main()"
   ]
  },
  {
   "cell_type": "markdown",
   "id": "522986d8",
   "metadata": {},
   "source": [
    "### 17. Write a program that reads two numbers and tells you which one is bigger."
   ]
  },
  {
   "cell_type": "code",
   "execution_count": 18,
   "id": "145d8a98",
   "metadata": {},
   "outputs": [
    {
     "name": "stdout",
     "output_type": "stream",
     "text": [
      "Enter Number 1.\n",
      "888888888888888888888888888888888888888888888888888888888888888888888888888888888888888888888888888888888888888888888888888888888888\n",
      "Enter Number 2.\n",
      "99999999999999999999999999999999999999999999999999999999999999999999999999999999999999999999999999999999999999999999999999999999999999999999999999999999\n",
      "1e+152 is bigger than 8.88888888888889e+131.\n",
      "Do you want to continue ? Press n for No, Anything else for Yes.\n",
      "y\n",
      "Enter Number 1.\n",
      "9999999999999999999999999999999999999999999999999999999999999999999999999999999999999999999999999999999999999999999999999999999999999999999999999999999999999999999999999999999999999999999999999999999999999999999999999999999999999999999999999999999999999999999999999999999999999999999999999999999999999999999999999999999999999999999999999999999999999999999999999999999999999999999999\n",
      "Enter Number 2.\n",
      "9999999999999999999999999999999999999999999999999999999999999999999999999999999999999999999999999999999999999999999999999999999999999999999999999999999999999999999999999999999999999999999999999999999999999999999999999999999999999999999999999999999999999999999999999999999999999999999999999999999999999999999999999999999999999999999999999999999999999999999999999999999999999999999999\n",
      "both inf & inf are Equal.\n",
      "Do you want to continue ? Press n for No, Anything else for Yes.\n",
      "n\n"
     ]
    }
   ],
   "source": [
    "def user_input(prompt):\n",
    "    while True:\n",
    "        try:\n",
    "            age = float(input(prompt).strip())\n",
    "            return age\n",
    "        except ValueError:\n",
    "            print(\"Enter Numbers only.\\n\")\n",
    "\n",
    "def big_number(num1, num2):\n",
    "    if num1 > num2:\n",
    "        print(f\"{num1} is bigger than {num2}.\")\n",
    "    elif num2 > num1:\n",
    "        print(f\"{num2} is bigger than {num1}.\")\n",
    "    else:\n",
    "        print(f\"both {num1} & {num2} are Equal.\")\n",
    "    \n",
    "def main():\n",
    "    while True:\n",
    "        num1 = user_input(\"Enter Number 1.\\n\")\n",
    "        num2 = user_input(\"Enter Number 2.\\n\")\n",
    "        big_number(num1, num2)\n",
    "        if input(\"Do you want to continue ? Press n for No, Anything else for Yes.\\n\").strip().lower() == 'n':\n",
    "            break\n",
    "if __name__ == '__main__':\n",
    "    main()"
   ]
  },
  {
   "cell_type": "markdown",
   "id": "66e5d4cd",
   "metadata": {},
   "source": [
    "#### 17a. Handle this infinite condition."
   ]
  },
  {
   "cell_type": "code",
   "execution_count": 24,
   "id": "d34c0643",
   "metadata": {},
   "outputs": [
    {
     "name": "stdout",
     "output_type": "stream",
     "text": [
      "Help on built-in function isfinite in module math:\n",
      "\n",
      "isfinite(x, /)\n",
      "    Return True if x is neither an infinity nor a NaN, and False otherwise.\n",
      "\n"
     ]
    }
   ],
   "source": [
    "from math import isfinite\n",
    "help(isfinite)"
   ]
  },
  {
   "cell_type": "code",
   "execution_count": 20,
   "id": "1696ecc7",
   "metadata": {},
   "outputs": [
    {
     "name": "stdout",
     "output_type": "stream",
     "text": [
      "Enter Number 1.\n",
      "9999999999999999999999999999999999999999999999999999999999999999999999999999999999999999999999999999999999999999999999999999999999999999999999999999999999999999999999999999999999999999999999999999999999999999999999999999999999999999999999999999999999999999999999999999999999999999999999999999999999999999999999999999999999999999999999999999999999999999999999999999999999999999999999\n",
      "Enter a Finite Num\n",
      "Enter Number 1.\n",
      "12\n",
      "Enter Number 2.\n",
      "9999999999999999999999999999999999999999999999999999999999999999999999999999999999999999999999999999999999999999999999999999999999999999999999999999999999999999999999999999999999999999999999999999999999999999999999999999999999999999999999999999999999999999999999999999999999999999999999999999999999999999999999999999999999999999999999999999999999999999999999999999999999999999999999\n",
      "Enter a Finite Num\n",
      "Enter Number 2.\n",
      "56\n",
      "56.0 is bigger than 12.0.\n",
      "Do you want to continue ? Press n for No, Anything else for Yes.\n",
      "n\n"
     ]
    }
   ],
   "source": [
    "from math import isfinite\n",
    "def user_input(prompt):\n",
    "    while True:\n",
    "        try:\n",
    "            age = float(input(prompt).strip())\n",
    "            if isfinite(age):\n",
    "                return age\n",
    "            else:\n",
    "                print(\"Enter a Finite Num\")\n",
    "        except ValueError:\n",
    "            print(\"Enter Numbers only.\\n\")\n",
    "\n",
    "def big_number(num1, num2):\n",
    "    if num1 > num2:\n",
    "        print(f\"{num1} is bigger than {num2}.\")\n",
    "    elif num2 > num1:\n",
    "        print(f\"{num2} is bigger than {num1}.\")\n",
    "    else:\n",
    "        print(f\"both {num1} & {num2} are Equal.\")\n",
    "    \n",
    "def main():\n",
    "    while True:\n",
    "        num1 = user_input(\"Enter Number 1.\\n\")\n",
    "        num2 = user_input(\"Enter Number 2.\\n\")\n",
    "        big_number(num1, num2)\n",
    "        if input(\"Do you want to continue ? Press n for No, Anything else for Yes.\\n\").strip().lower() == 'n':\n",
    "            break\n",
    "if __name__ == '__main__':\n",
    "    main()"
   ]
  },
  {
   "cell_type": "markdown",
   "id": "a5d7533e",
   "metadata": {},
   "source": [
    "### 18. Write a program that asks the user for three numbers and displays the largest one."
   ]
  },
  {
   "cell_type": "code",
   "execution_count": 27,
   "id": "07ed6419",
   "metadata": {},
   "outputs": [
    {
     "name": "stdout",
     "output_type": "stream",
     "text": [
      "Enter Number 1.\n",
      "qw\n",
      "Please enter Numbers only.\n",
      "\n",
      "Enter Number 1.\n",
      "       \n",
      "Please enter Numbers only.\n",
      "\n",
      "Enter Number 1.\n",
      "5\n",
      "Enter Number 2.\n",
      "5\n",
      "Enter Number 3.\n",
      "5\n",
      "5.0, 5.0, 5.0 are same.\n",
      "\n",
      "Do you want to continue ? Press n for No, Anything else for Yes :y\n",
      "Enter Number 1.\n",
      "-98\n",
      "Enter Number 2.\n",
      "=89\n",
      "Please enter Numbers only.\n",
      "\n",
      "Enter Number 2.\n",
      "3\n",
      "Enter Number 3.\n",
      "9999999999999999999999999999999999999999999999999999999999999999999999999999999999999999999999999999999999999999999999999999999999999999999999999999999999999999999999999999999999999999999999999999999999999999999999999999999999999999999999999999999999999999999999999999999999999999999999999999999999999999999999999999999\n",
      "Enter a Finite Number\n",
      "Enter Number 3.\n",
      "23\n",
      "23.0 is biggest and 3.0 & -98.0 are smaller.\n",
      "\n",
      "Do you want to continue ? Press n for No, Anything else for Yes :n\n"
     ]
    }
   ],
   "source": [
    "from math import isfinite\n",
    "def user_input(prompt):\n",
    "    while True:\n",
    "        try:\n",
    "            value = float(input(prompt).strip())\n",
    "            if isfinite(value):\n",
    "                return value\n",
    "            else:\n",
    "                print(\"Enter a Finite Number\")\n",
    "        except ValueError:\n",
    "            print(\"Please enter Numbers only.\\n\")\n",
    "            \n",
    "def bigger_number(num1, num2, num3):\n",
    "    if num1 > num2 and num1 > num3:\n",
    "        print(f\"{num1} is biggest and {num2} & {num3} are smaller.\\n\")\n",
    "    elif num2 > num1 and num2 > num3:\n",
    "        print(f\"{num2} is biggest and {num1} & {num3} are smaller.\\n\")\n",
    "    elif num3 > num1 and num3 > num2:\n",
    "        print(f\"{num3} is biggest and {num2} & {num1} are smaller.\\n\")\n",
    "    else:\n",
    "        print(f\"{num1}, {num2}, {num3} are same.\\n\")\n",
    "        \n",
    "def main():\n",
    "    while True:\n",
    "        num1 = user_input(\"Enter Number 1.\\n\")\n",
    "        num2 = user_input(\"Enter Number 2.\\n\")\n",
    "        num3 = user_input(\"Enter Number 3.\\n\")\n",
    "        bigger_number(num1, num2, num3)\n",
    "        if input(\"Do you want to continue ? Press n for No, Anything else for Yes :\").strip().lower() == 'n':\n",
    "            break\n",
    "\n",
    "if __name__ == '__main__':\n",
    "    main()\n",
    "        "
   ]
  },
  {
   "cell_type": "markdown",
   "id": "92db531a",
   "metadata": {},
   "source": [
    "### 19. Write a program that reads a number and reports whether it is odd or even."
   ]
  },
  {
   "cell_type": "code",
   "execution_count": 28,
   "id": "564b88eb",
   "metadata": {},
   "outputs": [
    {
     "name": "stdout",
     "output_type": "stream",
     "text": [
      "Enter Number.\n",
      "wqs\n",
      "Please enter Numbers only.\n",
      "\n",
      "Enter Number.\n",
      "     \n",
      "Please enter Numbers only.\n",
      "\n",
      "Enter Number.\n",
      "-9\n",
      "-9.0is a Odd Number.\n",
      "\n",
      "Do you want to continue ? Press n for No, Anything else for Yes :y\n",
      "Enter Number.\n",
      "4\n",
      "4.0 is a Even Number.\n",
      "Do you want to continue ? Press n for No, Anything else for Yes :n\n"
     ]
    }
   ],
   "source": [
    "def user_input(prompt):\n",
    "    while True:\n",
    "        try:\n",
    "            value = float(input(prompt).strip())\n",
    "            if isfinite(value):\n",
    "                return value\n",
    "            else:\n",
    "                print(\"Enter a Finite Number\")\n",
    "        except ValueError:\n",
    "            print(\"Please enter Numbers only.\\n\")\n",
    "            \n",
    "def even_odd_number(num1):\n",
    "    if num1 % 2 == 0:\n",
    "        print(f\"{num1} is a Even Number.\")\n",
    "    else:\n",
    "        print(f\"{num1}is a Odd Number.\\n\")\n",
    "        \n",
    "def main():\n",
    "    while True:\n",
    "        num1 = user_input(\"Enter Number.\\n\")\n",
    "        even_odd_number(num1)\n",
    "        if input(\"Do you want to continue ? Press n for No, Anything else for Yes :\").strip().lower() == 'n':\n",
    "            break\n",
    "\n",
    "if __name__ == '__main__':\n",
    "    main()"
   ]
  },
  {
   "cell_type": "markdown",
   "id": "b9df00e9",
   "metadata": {},
   "source": [
    "### 20. Write a program that reads a number and reports whether it is positive,negative or zero."
   ]
  },
  {
   "cell_type": "code",
   "execution_count": 29,
   "id": "5be22246",
   "metadata": {},
   "outputs": [
    {
     "name": "stdout",
     "output_type": "stream",
     "text": [
      "Enter Number.\n",
      "ewa\n",
      "Please enter Numbers only.\n",
      "\n",
      "Enter Number.\n",
      "    \n",
      "Please enter Numbers only.\n",
      "\n",
      "Enter Number.\n",
      "6\n",
      "6.0 is a Positive Number.\n",
      "Do you want to continue ? Press n for No, Anything else for Yes :n\n"
     ]
    }
   ],
   "source": [
    "def user_input(prompt):\n",
    "    while True:\n",
    "        try:\n",
    "            value = float(input(prompt).strip())\n",
    "            if isfinite(value):\n",
    "                return value\n",
    "            else:\n",
    "                print(\"Enter a Finite Number\")\n",
    "        except ValueError:\n",
    "            print(\"Please enter Numbers only.\\n\")\n",
    "            \n",
    "def number_deci(num1):\n",
    "    if num1 > 0:\n",
    "        print(f\"{num1} is a Positive Number.\")\n",
    "    elif num1 < 0:\n",
    "        print(f\"{num1} is a Negative Number\")\n",
    "    else:\n",
    "        print(f\"{num1} is Zero.\")\n",
    "        \n",
    "def main():\n",
    "    while True:\n",
    "        num1 = user_input(\"Enter Number.\\n\")\n",
    "        number_deci(num1)\n",
    "        if input(\"Do you want to continue ? Press n for No, Anything else for Yes :\").strip().lower() == 'n':\n",
    "            break\n",
    "\n",
    "if __name__ == '__main__':\n",
    "    main()"
   ]
  },
  {
   "cell_type": "markdown",
   "id": "97faeb66",
   "metadata": {},
   "source": [
    "### 21. Make a program that reads the scores of two tests and reports whether the student passed (score greater than or equal to 6) or failed (score less than 6) in each of the tests."
   ]
  },
  {
   "cell_type": "code",
   "execution_count": 30,
   "id": "16863f29",
   "metadata": {},
   "outputs": [
    {
     "name": "stdout",
     "output_type": "stream",
     "text": [
      "Enter Number for test 1 (0-10).\n",
      "11\n",
      "Enter a Finite/Valid Number\n",
      "Enter Number for test 1 (0-10).\n",
      "ewaewa\n",
      "Please enter Numbers only.\n",
      "\n",
      "Enter Number for test 1 (0-10).\n",
      "-9\n",
      "Enter a Finite/Valid Number\n",
      "Enter Number for test 1 (0-10).\n",
      "3\n",
      "Enter Number for test 2 (0-10).\n",
      "3\n",
      "Student failed in both Tests.\n",
      "\n",
      "Do you want to continue ? Press n for No, Anything else for Yes :y\n",
      "Enter Number for test 1 (0-10).\n",
      "6\n",
      "Enter Number for test 2 (0-10).\n",
      "6\n",
      "Student passed in both Tests.\n",
      "\n",
      "Do you want to continue ? Press n for No, Anything else for Yes :y\n",
      "Enter Number for test 1 (0-10).\n",
      "7\n",
      "Enter Number for test 2 (0-10).\n",
      "7\n",
      "Student passed in both Tests.\n",
      "\n",
      "Do you want to continue ? Press n for No, Anything else for Yes :y\n",
      "Enter Number for test 1 (0-10).\n",
      "-9\n",
      "Enter a Finite/Valid Number\n",
      "Enter Number for test 1 (0-10).\n",
      "3\n",
      "Enter Number for test 2 (0-10).\n",
      "6\n",
      "Student passed in Test 2.\n",
      "\n",
      "Do you want to continue ? Press n for No, Anything else for Yes :y\n",
      "Enter Number for test 1 (0-10).\n",
      "6\n",
      "Enter Number for test 2 (0-10).\n",
      "3\n",
      "Student passed in Test 1.\n",
      "\n",
      "Do you want to continue ? Press n for No, Anything else for Yes :n\n"
     ]
    }
   ],
   "source": [
    "def user_input(prompt):\n",
    "    while True:\n",
    "        try:\n",
    "            value = float(input(prompt).strip())\n",
    "            if isfinite(value) and value >=0 and value <= 10:\n",
    "                return value\n",
    "            else:\n",
    "                print(\"Enter a Finite/Valid Number\")\n",
    "        except ValueError:\n",
    "            print(\"Please enter Numbers only.\\n\")\n",
    "            \n",
    "def pass_calc(num1,num2):\n",
    "    if num1 >=6 and num2 < 6:\n",
    "        print(\"Student passed in Test 1.\\n\")\n",
    "    elif num1 < 6 and num2 >=6:\n",
    "        print(\"Student passed in Test 2.\\n\")\n",
    "    elif num1 >=6 and num2 >=6:\n",
    "        print(\"Student passed in both Tests.\\n\")\n",
    "    else:\n",
    "        print(\"Student failed in both Tests.\\n\")\n",
    "    \n",
    "        \n",
    "def main():\n",
    "    while True:\n",
    "        num1 = user_input(\"Enter Number for test 1 (0-10).\\n\")\n",
    "        num2 = user_input(\"Enter Number for test 2 (0-10).\\n\")\n",
    "        pass_calc(num1,num2)\n",
    "        if input(\"Do you want to continue ? Press n for No, Anything else for Yes :\").strip().lower() == 'n':\n",
    "            break\n",
    "\n",
    "if __name__ == '__main__':\n",
    "    main()"
   ]
  },
  {
   "cell_type": "markdown",
   "id": "7ff894f2",
   "metadata": {},
   "source": [
    "### 22. Make a program that reads the grades of two tests, calculates the simple arithmetic mean, and informs whether the student passed (average greater than or equal to 6) or failed (average less than 6)."
   ]
  },
  {
   "cell_type": "code",
   "execution_count": 31,
   "id": "acbf3990",
   "metadata": {},
   "outputs": [
    {
     "name": "stdout",
     "output_type": "stream",
     "text": [
      "Enter Number for test 1 (0-10).\n",
      "10\n",
      "Enter Number for test 2 (0-10).\n",
      "4\n",
      "Student Passed\n",
      "Do you want to continue ? Press n for No, Anything else for Yes :n\n"
     ]
    }
   ],
   "source": [
    "def user_input(prompt):\n",
    "    while True:\n",
    "        try:\n",
    "            value = float(input(prompt).strip())\n",
    "            if isfinite(value) and value >=0 and value <= 10:\n",
    "                return value\n",
    "            else:\n",
    "                print(\"Enter a Finite/Valid Number\")\n",
    "        except ValueError:\n",
    "            print(\"Please enter Numbers only.\\n\")\n",
    "            \n",
    "def pass_calc(num1,num2):\n",
    "    if (num1+num2)/2 >= 6:\n",
    "        print(\"Student Passed\")\n",
    "    else:\n",
    "        print(\"Student Failed.\\n\")\n",
    "    \n",
    "        \n",
    "def main():\n",
    "    while True:\n",
    "        num1 = user_input(\"Enter Number for test 1 (0-10).\\n\")\n",
    "        num2 = user_input(\"Enter Number for test 2 (0-10).\\n\")\n",
    "        pass_calc(num1,num2)\n",
    "        if input(\"Do you want to continue ? Press n for No, Anything else for Yes :\").strip().lower() == 'n':\n",
    "            break\n",
    "\n",
    "if __name__ == '__main__':\n",
    "    main()"
   ]
  },
  {
   "cell_type": "markdown",
   "id": "2a76d194",
   "metadata": {},
   "source": [
    "### 23. Make a program that reads three numbers, and informs if their sum is divisible by 5 or not. Use unit place of the sum."
   ]
  },
  {
   "cell_type": "code",
   "execution_count": 33,
   "id": "ab00971b",
   "metadata": {},
   "outputs": [
    {
     "name": "stdout",
     "output_type": "stream",
     "text": [
      "Enter Number 1.\n",
      "5\n",
      "Enter Number 2.\n",
      "5\n",
      "Enter Number 3.\n",
      "4\n",
      "Sum of 5.0, 5.0, 5.0 is 14.0 which is not divisible by 5.\n",
      "\n",
      "Do you want to continue ? Press n for No, Anything else for Yes :y\n",
      "Enter Number 1.\n",
      "0\n",
      "Enter Number 2.\n",
      "0\n",
      "Enter Number 3.\n",
      "0\n",
      "Sum of 0.0, 0.0, 0.0 is 0.0 which is divisible by 5.\n",
      "\n",
      "Do you want to continue ? Press n for No, Anything else for Yes :n\n"
     ]
    }
   ],
   "source": [
    "def user_input(prompt):\n",
    "    while True:\n",
    "        try:\n",
    "            value = float(input(prompt).strip())\n",
    "            if isfinite(value):\n",
    "                return value\n",
    "            else:\n",
    "                print(\"Enter a Finite/Valid Number\")\n",
    "        except ValueError:\n",
    "            print(\"Please enter Numbers only.\\n\")\n",
    "            \n",
    "def divisible_by_five(num1,num2,num3):\n",
    "    if (num1 + num2 + num3) % 10 in [0,5]:\n",
    "        print(f\"Sum of {num1}, {num2}, {num2} is {num1+num2+num3} which is divisible by 5.\\n\")\n",
    "    else:\n",
    "        print(f\"Sum of {num1}, {num2}, {num2} is {num1+num2+num3} which is not divisible by 5.\\n\")\n",
    "        \n",
    "    \n",
    "        \n",
    "def main():\n",
    "    while True:\n",
    "        num1 = user_input(\"Enter Number 1.\\n\")\n",
    "        num2 = user_input(\"Enter Number 2.\\n\")\n",
    "        num3 = user_input(\"Enter Number 3.\\n\")\n",
    "        divisible_by_five(num1,num2,num3)\n",
    "        if input(\"Do you want to continue ? Press n for No, Anything else for Yes :\").strip().lower() == 'n':\n",
    "            break\n",
    "\n",
    "if __name__ == '__main__':\n",
    "    main()"
   ]
  },
  {
   "cell_type": "markdown",
   "id": "63158366",
   "metadata": {},
   "source": [
    "### 24. Make a program that reads three numbers, and informs if their sum is divisible by 5 or not. "
   ]
  },
  {
   "cell_type": "code",
   "execution_count": 34,
   "id": "33a7d194",
   "metadata": {},
   "outputs": [
    {
     "name": "stdout",
     "output_type": "stream",
     "text": [
      "Enter Number 1.\n",
      "4\n",
      "Enter Number 2.\n",
      "4\n",
      "Enter Number 3.\n",
      "4\n",
      "Sum of 4.0, 4.0, 4.0 is 12.0 which is not divisible by 5.\n",
      "\n",
      "Do you want to continue ? Press n for No, Anything else for Yes :n\n"
     ]
    }
   ],
   "source": [
    "def user_input(prompt):\n",
    "    while True:\n",
    "        try:\n",
    "            value = float(input(prompt).strip())\n",
    "            if isfinite(value):\n",
    "                return value\n",
    "            else:\n",
    "                print(\"Enter a Finite/Valid Number\")\n",
    "        except ValueError:\n",
    "            print(\"Please enter Numbers only.\\n\")\n",
    "            \n",
    "def divisible_by_five(num1,num2,num3):\n",
    "    if (num1 + num2 + num3) % 5 == 0:\n",
    "        print(f\"Sum of {num1}, {num2}, {num2} is {num1+num2+num3} which is divisible by 5.\\n\")\n",
    "    else:\n",
    "        print(f\"Sum of {num1}, {num2}, {num2} is {num1+num2+num3} which is not divisible by 5.\\n\")\n",
    "        \n",
    "    \n",
    "        \n",
    "def main():\n",
    "    while True:\n",
    "        num1 = user_input(\"Enter Number 1.\\n\")\n",
    "        num2 = user_input(\"Enter Number 2.\\n\")\n",
    "        num3 = user_input(\"Enter Number 3.\\n\")\n",
    "        divisible_by_five(num1,num2,num3)\n",
    "        if input(\"Do you want to continue ? Press n for No, Anything else for Yes :\").strip().lower() == 'n':\n",
    "            break\n",
    "\n",
    "if __name__ == '__main__':\n",
    "    main()"
   ]
  },
  {
   "cell_type": "markdown",
   "id": "e42daa50",
   "metadata": {},
   "source": [
    "### 25. Make a program that reads three numbers, and displays them on the screen in ascending order. without using the list."
   ]
  },
  {
   "cell_type": "code",
   "execution_count": 38,
   "id": "578324aa",
   "metadata": {},
   "outputs": [
    {
     "name": "stdout",
     "output_type": "stream",
     "text": [
      "Enter Number 1.\n",
      "we\n",
      "Please enter Numbers only.\n",
      "\n",
      "Enter Number 1.\n",
      "   \n",
      "Please enter Numbers only.\n",
      "\n",
      "Enter Number 1.\n",
      "2\n",
      "Enter Number 2.\n",
      "2\n",
      "Enter Number 3.\n",
      "2\n",
      "2.0, 2.0, 2.0 are same.\n",
      "Do you want to continue ? Press n for No, Anything else for Yes :y\n",
      "Enter Number 1.\n",
      "2\n",
      "Enter Number 2.\n",
      "3\n",
      "Enter Number 3.\n",
      "4\n",
      "ASC order is 2.0 < 3.0 <4.0\n",
      "Do you want to continue ? Press n for No, Anything else for Yes :\n",
      "Enter Number 1.\n",
      "10\n",
      "Enter Number 2.\n",
      "10\n",
      "Enter Number 3.\n",
      "5\n",
      "10.0, 10.0, 5.0 are same.\n",
      "Do you want to continue ? Press n for No, Anything else for Yes :n\n"
     ]
    }
   ],
   "source": [
    "def user_input(prompt):\n",
    "    while True:\n",
    "        try:\n",
    "            value = float(input(prompt).strip())\n",
    "            if isfinite(value):\n",
    "                return value\n",
    "            else:\n",
    "                print(\"Enter a Finite/Valid Number\")\n",
    "        except ValueError:\n",
    "            print(\"Please enter Numbers only.\\n\")\n",
    "            \n",
    "def order_of_number(num1,num2,num3):\n",
    "    if num1 > num2 and num1 > num3:\n",
    "        if num2 > num3:\n",
    "            print(f\"ASC order is {num3} < {num2} < {num1}\")\n",
    "        else:\n",
    "            print(f\"ASC order is {num2} < {num3} < {num1}\")\n",
    "    elif num2 > num1 and num2 > num3:\n",
    "        if num1 > num3:\n",
    "            print(f\"ASC order is {num3} < {num1} <{num2}\")\n",
    "        else:\n",
    "            print(f\"ASC order is {num1} < {num3} <{num2}\")\n",
    "    elif num3 > num1 and num3 > num2:\n",
    "        if num1 > num2:\n",
    "            print(f\"ASC order is {num2} < {num1} <{num3}\")\n",
    "        else:\n",
    "            print(f\"ASC order is {num1} < {num2} <{num3}\")\n",
    "    else:\n",
    "        print(f\"{num1}, {num2}, {num3} are same.\")\n",
    "        \n",
    "def main():\n",
    "    while True:\n",
    "        num1 = user_input(\"Enter Number 1.\\n\")\n",
    "        num2 = user_input(\"Enter Number 2.\\n\")\n",
    "        num3 = user_input(\"Enter Number 3.\\n\")\n",
    "        order_of_number(num1,num2,num3)\n",
    "        if input(\"Do you want to continue ? Press n for No, Anything else for Yes :\").strip().lower() == 'n':\n",
    "            break\n",
    "\n",
    "if __name__ == '__main__':\n",
    "    main()"
   ]
  },
  {
   "cell_type": "markdown",
   "id": "7cd7ea39",
   "metadata": {},
   "source": [
    "#### 25a. Fix the issue observed in last input, use *LIST* this time as if else will have more logical bugs. Use *SORT* method & *SORTED* function both."
   ]
  },
  {
   "cell_type": "code",
   "execution_count": 48,
   "id": "441b56c0",
   "metadata": {},
   "outputs": [
    {
     "name": "stdout",
     "output_type": "stream",
     "text": [
      "Help on built-in function sort:\n",
      "\n",
      "sort(*, key=None, reverse=False) method of builtins.list instance\n",
      "    Sort the list in ascending order and return None.\n",
      "    \n",
      "    The sort is in-place (i.e. the list itself is modified) and stable (i.e. the\n",
      "    order of two equal elements is maintained).\n",
      "    \n",
      "    If a key function is given, apply it once to each list item and sort them,\n",
      "    ascending or descending, according to their function values.\n",
      "    \n",
      "    The reverse flag can be set to sort in descending order.\n",
      "\n"
     ]
    }
   ],
   "source": [
    "lst = []\n",
    "help(lst.sort)"
   ]
  },
  {
   "cell_type": "code",
   "execution_count": 50,
   "id": "8a9a5ad8",
   "metadata": {},
   "outputs": [
    {
     "name": "stdout",
     "output_type": "stream",
     "text": [
      "Help on built-in function sorted in module builtins:\n",
      "\n",
      "sorted(iterable, /, *, key=None, reverse=False)\n",
      "    Return a new list containing all items from the iterable in ascending order.\n",
      "    \n",
      "    A custom key function can be supplied to customize the sort order, and the\n",
      "    reverse flag can be set to request the result in descending order.\n",
      "\n"
     ]
    }
   ],
   "source": [
    "help(sorted)"
   ]
  },
  {
   "cell_type": "code",
   "execution_count": 53,
   "id": "3f6e23e4",
   "metadata": {},
   "outputs": [
    {
     "name": "stdout",
     "output_type": "stream",
     "text": [
      "Enter Number 1.\n",
      "40\n",
      "Enter Number 2.\n",
      "30\n",
      "Enter Number 3.\n",
      "20\n",
      "Value of List Before Any Sorting.\n",
      "\n",
      "[(40.0, 30.0, 20.0)]\n",
      "Value of List after using the sorted Function.\n",
      "\n",
      "Orginal List - [(40.0, 30.0, 20.0)]\n",
      "New List - [(40.0, 30.0, 20.0)]\n",
      "Value of List after using the sort method\n",
      "Orginal List - [(40.0, 30.0, 20.0)]\n",
      "Conclusion \n",
      " Sorted function store data in new list. \n",
      " Sort method sort the list in place\n",
      "Do you want to continue ? Press n for No, Anything else for Yes :n\n"
     ]
    }
   ],
   "source": [
    "def user_input(prompt):\n",
    "    while True:\n",
    "        try:\n",
    "            value = float(input(prompt).strip())\n",
    "            if isfinite(value):\n",
    "                return value\n",
    "            else:\n",
    "                print(\"Enter a Finite/Valid Number\")\n",
    "        except ValueError:\n",
    "            print(\"Please enter Numbers only.\\n\")\n",
    "            \n",
    "def order_of_number(*args):\n",
    "    print(\"Value of List Before Any Sorting.\\n\")\n",
    "    lst = [args]\n",
    "    print(lst)\n",
    "    new_lst = sorted(lst)\n",
    "    print(\"Value of List after using the sorted Function.\\n\")\n",
    "    print(f\"Orginal List - {lst}\")\n",
    "    print(f\"New List - {new_lst}\")\n",
    "    print(f\"Value of List after using the sort method\")\n",
    "    lst.sort()\n",
    "    print(f\"Orginal List - {lst}\")\n",
    "    print(\"Conclusion \\n Sorted function store data in new list. \\n Sort method sort the list in place\")\n",
    "    \n",
    "        \n",
    "def main():\n",
    "    while True:\n",
    "        num1 = user_input(\"Enter Number 1.\\n\")\n",
    "        num2 = user_input(\"Enter Number 2.\\n\")\n",
    "        num3 = user_input(\"Enter Number 3.\\n\")\n",
    "        order_of_number(num1,num2,num3)\n",
    "        if input(\"Do you want to continue ? Press n for No, Anything else for Yes :\").strip().lower() == 'n':\n",
    "            break\n",
    "\n",
    "if __name__ == '__main__':\n",
    "    main()"
   ]
  },
  {
   "cell_type": "code",
   "execution_count": null,
   "id": "7588a628",
   "metadata": {},
   "outputs": [],
   "source": []
  }
 ],
 "metadata": {
  "kernelspec": {
   "display_name": "Python 3 (ipykernel)",
   "language": "python",
   "name": "python3"
  },
  "language_info": {
   "codemirror_mode": {
    "name": "ipython",
    "version": 3
   },
   "file_extension": ".py",
   "mimetype": "text/x-python",
   "name": "python",
   "nbconvert_exporter": "python",
   "pygments_lexer": "ipython3",
   "version": "3.11.4"
  }
 },
 "nbformat": 4,
 "nbformat_minor": 5
}

{
 "cells": [
  {
   "cell_type": "markdown",
   "id": "80815887",
   "metadata": {},
   "source": [
    "Question are taken from - https://www.geeksforgeeks.org/python-oops-exercise-questions/\n",
    "**Author - Priyesh Yadav**"
   ]
  },
  {
   "cell_type": "markdown",
   "id": "9695bda8",
   "metadata": {},
   "source": [
    "**Exercise 1: Create a class Greeter with a method greet(name) that prints a greeting for the provided name.**"
   ]
  },
  {
   "cell_type": "code",
   "execution_count": 2,
   "id": "677ca5af",
   "metadata": {},
   "outputs": [
    {
     "name": "stdout",
     "output_type": "stream",
     "text": [
      "Hello !! Priyesh\n"
     ]
    }
   ],
   "source": [
    "class Greeter:\n",
    "    def greet(self, name):\n",
    "        self.name = name\n",
    "        print(f'Hello !! {self.name}')\n",
    "        \n",
    "obj1 = Greeter()\n",
    "obj1.greet('Priyesh')"
   ]
  },
  {
   "cell_type": "markdown",
   "id": "0c94711e",
   "metadata": {},
   "source": [
    "**Exercise 2: Develop a class Calculator with methods to add and subtract two numbers.**"
   ]
  },
  {
   "cell_type": "code",
   "execution_count": 5,
   "id": "617a5c85",
   "metadata": {},
   "outputs": [
    {
     "name": "stdout",
     "output_type": "stream",
     "text": [
      "Addition of 10 and 5 is : 15\n",
      "Subtraction of 10 and 5 is : 5\n"
     ]
    }
   ],
   "source": [
    "class Calculator:\n",
    "    def add(self,x,y):\n",
    "        self.x = x\n",
    "        self.y = y\n",
    "        return f'Addition of {self.x} and {self.y} is : {self.x + self.y}'\n",
    "    \n",
    "    def sub(self,x,y):\n",
    "        self.x = x\n",
    "        self.y = y\n",
    "        return f'Subtraction of {self.x} and {self.y} is : {self.x - self.y}' \n",
    "    \n",
    "obj_cal = Calculator()\n",
    "print(obj_cal.add(10,5))\n",
    "print(obj_cal.sub(10,5)"
   ]
  },
  {
   "cell_type": "markdown",
   "id": "7ccea43a",
   "metadata": {},
   "source": [
    "**Exercise 2a: Do we really need _SELF_ as we have not initialized any class attribute ??**"
   ]
  },
  {
   "cell_type": "code",
   "execution_count": 10,
   "id": "e364f5c4",
   "metadata": {},
   "outputs": [
    {
     "name": "stdout",
     "output_type": "stream",
     "text": [
      "Addition of 10 and 5 is : 15\n",
      "Subtraction of 10 and 5 is : 5\n"
     ]
    },
    {
     "data": {
      "text/plain": [
       "'\\nExplanation \\nmethod always require the SELF as first parameter, beacuse they will be called via objects.\\nsince the attributes are not directly linked to object, as our class doesnt accept any argument,\\nWe can ignore self.variable = variable initialization.\\n'"
      ]
     },
     "execution_count": 10,
     "metadata": {},
     "output_type": "execute_result"
    }
   ],
   "source": [
    "class Calculator:\n",
    "    def add(self,x,y):\n",
    "        return f'Addition of {x} and {y} is : {x + y}'\n",
    "    \n",
    "    def sub(self,x,y):\n",
    "        return f'Subtraction of {x} and {y} is : {x - y}' \n",
    "    \n",
    "obj_cal = Calculator()\n",
    "print(obj_cal.add(10,5))\n",
    "print(obj_cal.sub(10,5))\n",
    "\n",
    "'''\n",
    "Explanation \n",
    "method always require the SELF as first parameter, beacuse they will be called via objects.\n",
    "since the attributes are not directly linked to object, as our class doesnt accept any argument,\n",
    "We can ignore self.variable = variable initialization.\n",
    "'''"
   ]
  },
  {
   "cell_type": "markdown",
   "id": "1f4ce24a",
   "metadata": {},
   "source": [
    "**Exercise 3: Build a class Employee with multiple constructors that can initialize an employee object in different ways.**"
   ]
  },
  {
   "cell_type": "code",
   "execution_count": 16,
   "id": "e9ddf33e",
   "metadata": {},
   "outputs": [
    {
     "name": "stdout",
     "output_type": "stream",
     "text": [
      "Name : priyesh \n",
      "Email : priyesh@aol.com \n",
      "Department : IT\n",
      "Name : kunal \n",
      "Email : kunal@aol.com\n",
      "Name : vinay \n",
      "Department : IT\n",
      "No Information Given\n"
     ]
    }
   ],
   "source": [
    "class Employee:\n",
    "    def __init__(self, name=None, email = None , department = None):\n",
    "        self.name = name\n",
    "        self.email = email\n",
    "        self.dept = department\n",
    "        \n",
    "    def display(self):\n",
    "        if self.email and self.dept:\n",
    "            return f'Name : {self.name} \\nEmail : {self.email} \\nDepartment : {self.dept}'\n",
    "        elif self.email and not self.dept:\n",
    "            return f'Name : {self.name} \\nEmail : {self.email}'\n",
    "        elif not self.email and self.dept:\n",
    "            return f'Name : {self.name} \\nDepartment : {self.dept}'\n",
    "        else:\n",
    "            return f'No Information Given'\n",
    "        \n",
    "emp1 = Employee('priyesh','priyesh@aol.com','IT')\n",
    "print(emp1.display())\n",
    "emp2 = Employee('kunal','kunal@aol.com')\n",
    "print(emp2.display())\n",
    "emp3 = Employee('vinay',department='IT')\n",
    "print(emp3.display())\n",
    "emp4 = Employee()\n",
    "print(emp4.display())"
   ]
  },
  {
   "cell_type": "markdown",
   "id": "b66009bb",
   "metadata": {},
   "source": [
    "**Explanation of Exercise 3**\n",
    "\n",
    "Since we are initiating variable with default values, it allow us to initialize objects in diff ways.\n",
    "for Obj3, since we are skiping 2nd position argument, we need to provide the 3rd argument using the keyword. if we dont do this then the value passed will be considered in 2nd Positional Argument."
   ]
  },
  {
   "cell_type": "markdown",
   "id": "02ea1834",
   "metadata": {},
   "source": [
    "**Exercise 4: Design a class SeriesCalculator that calculates the sum of an arithmetic series.**"
   ]
  },
  {
   "cell_type": "code",
   "execution_count": 18,
   "id": "44dd662a",
   "metadata": {},
   "outputs": [
    {
     "name": "stdout",
     "output_type": "stream",
     "text": [
      "Airthmatic Sum of as1 :  25\n",
      "Airthmatic Sum of as2 :  85\n"
     ]
    }
   ],
   "source": [
    "class SeriesCalculator:\n",
    "    def sum_airthmatic(self, n, a=1, d=2):\n",
    "         return n * (2 * a + (n - 1) * d) // 2\n",
    "\n",
    "as1 = SeriesCalculator()\n",
    "as2 = SeriesCalculator()\n",
    "\n",
    "print(\"Airthmatic Sum of as1 : \", as1.sum_airthmatic(5))\n",
    "print(\"Airthmatic Sum of as2 : \", as1.sum_airthmatic(5,3,7))"
   ]
  },
  {
   "cell_type": "markdown",
   "id": "b5b7faaf",
   "metadata": {},
   "source": [
    "**Exercise 5: Create a class MaxFinder that identifies the largest number in a list.**"
   ]
  },
  {
   "cell_type": "code",
   "execution_count": 20,
   "id": "eaa243e2",
   "metadata": {},
   "outputs": [
    {
     "name": "stdout",
     "output_type": "stream",
     "text": [
      "9\n",
      "Empty List\n"
     ]
    }
   ],
   "source": [
    "class MaxFinder:\n",
    "    def __init__(self, numbers):\n",
    "        self.num = numbers\n",
    "        \n",
    "    def findmax(self):\n",
    "        if len(self.num) == 0:\n",
    "            return f'Empty List'\n",
    "        else:\n",
    "            return max(self.num)\n",
    "        \n",
    "l1 = MaxFinder([2,4,9])\n",
    "print(l1.findmax())\n",
    "l2 = MaxFinder([])\n",
    "print(l2.findmax())"
   ]
  },
  {
   "cell_type": "markdown",
   "id": "9d1f332e",
   "metadata": {},
   "source": [
    "**Exercise 6: Design a Rectangle class with default attributes for length and width set to 1. Include methods to set these attributes and calculate the area.**"
   ]
  },
  {
   "cell_type": "code",
   "execution_count": 7,
   "id": "868a54f4",
   "metadata": {},
   "outputs": [
    {
     "name": "stdout",
     "output_type": "stream",
     "text": [
      "Area of Rectangle is : 1\n",
      "Area of Rectangle is : 16\n",
      "Area of Rectangle is : 6\n"
     ]
    }
   ],
   "source": [
    "class Rectangle:\n",
    "    def __init__(self,length=1, width=1):\n",
    "        '''When the object is created length and width are initilized with Default Attributes'''\n",
    "        self.length = length\n",
    "        self.width = width\n",
    "        \n",
    "    def set_attribute(self, length, width):\n",
    "        '''This method is called to reset the default parameter.\n",
    "        For Same reason we are using self.length & self.width'''\n",
    "        self.length = length\n",
    "        self.width = width\n",
    "        \n",
    "    def area_calc(self):\n",
    "        return self.length * self.width\n",
    "    \n",
    "R1 = Rectangle()\n",
    "print(f'Area of Rectangle is : {R1.area_calc()}')\n",
    "R2 = Rectangle()\n",
    "R2.set_attribute(4,4)\n",
    "print(f'Area of Rectangle is : {R2.area_calc()}')\n",
    "R3 = Rectangle(3,2)\n",
    "print(f'Area of Rectangle is : {R3.area_calc()}')"
   ]
  },
  {
   "cell_type": "markdown",
   "id": "d162eabf",
   "metadata": {},
   "source": [
    "**Exercise 7: Person Class with __str__ Method: Create a Person class with first and last name attributes and override the __str__ method to return the full name.**"
   ]
  },
  {
   "cell_type": "code",
   "execution_count": 11,
   "id": "90ce348d",
   "metadata": {},
   "outputs": [
    {
     "name": "stdout",
     "output_type": "stream",
     "text": [
      "Hello Yadav, Priyesh !\n"
     ]
    }
   ],
   "source": [
    "class Person:\n",
    "    def __init__(self, First_name, Last_name):\n",
    "        self.first = First_name\n",
    "        self.last = Last_name\n",
    "        \n",
    "    def __str__(self):\n",
    "        return f'Hello {self.last}, {self.first} !'\n",
    "    \n",
    "P1 = Person('Priyesh','Yadav')\n",
    "print(P1)"
   ]
  },
  {
   "cell_type": "markdown",
   "id": "fdf98a00",
   "metadata": {},
   "source": [
    "**Exercise 8: Student Grade Calculator: Implement a Student class with attributes for name and a list of marks. Include a method to calculate the average and determine the grade.**"
   ]
  },
  {
   "cell_type": "code",
   "execution_count": 16,
   "id": "0cb0affa",
   "metadata": {},
   "outputs": [
    {
     "name": "stdout",
     "output_type": "stream",
     "text": [
      "Hey Priyesh, Your average is 98.0 & Hence grade is A\n"
     ]
    }
   ],
   "source": [
    "class Student:\n",
    "    def __init__(self, name, marks):\n",
    "        self.name = name\n",
    "        self.marks = marks\n",
    "    def average(self):\n",
    "        return sum(self.marks)/len(self.marks)\n",
    "    def grade(self):\n",
    "        average = self.average()\n",
    "        if average >= 90:\n",
    "            return 'A'\n",
    "        elif average >= 80:\n",
    "            return 'B'\n",
    "        elif average >= 70:\n",
    "            return 'C'\n",
    "        elif average >= 60:\n",
    "            return 'D'\n",
    "        else:\n",
    "            return 'F'\n",
    "        \n",
    "S1 = Student('Priyesh',[98,97,99])\n",
    "print(f'Hey {S1.name}, Your average is {S1.average()} & Hence grade is {S1.grade()}')\n",
    "        "
   ]
  },
  {
   "cell_type": "markdown",
   "id": "c0cfb5fc",
   "metadata": {},
   "source": [
    "**Exercise 10: Last Digit in Words: Write a class with a method that takes an integer and prints the last digit of that number in words.**"
   ]
  },
  {
   "cell_type": "code",
   "execution_count": 20,
   "id": "3852cf92",
   "metadata": {},
   "outputs": [
    {
     "name": "stdout",
     "output_type": "stream",
     "text": [
      "Last Digit word: Four\n"
     ]
    }
   ],
   "source": [
    "class LastDigit:\n",
    "    def last_digit_word(self,number):\n",
    "        self.number = number\n",
    "        word = ['Zero','One','Two','Three','Four','Five','Six','Seven','Eight','Nine']\n",
    "        return word[number%10]\n",
    "    \n",
    "L1 = LastDigit()\n",
    "print(f'Last Digit word: {L1.last_digit_word(1234)}')"
   ]
  },
  {
   "cell_type": "code",
   "execution_count": null,
   "id": "302c81c5",
   "metadata": {},
   "outputs": [],
   "source": []
  }
 ],
 "metadata": {
  "kernelspec": {
   "display_name": "Python 3 (ipykernel)",
   "language": "python",
   "name": "python3"
  },
  "language_info": {
   "codemirror_mode": {
    "name": "ipython",
    "version": 3
   },
   "file_extension": ".py",
   "mimetype": "text/x-python",
   "name": "python",
   "nbconvert_exporter": "python",
   "pygments_lexer": "ipython3",
   "version": "3.11.4"
  }
 },
 "nbformat": 4,
 "nbformat_minor": 5
}

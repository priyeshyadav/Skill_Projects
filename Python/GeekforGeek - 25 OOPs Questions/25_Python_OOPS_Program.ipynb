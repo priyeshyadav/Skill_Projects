{
 "cells": [
  {
   "cell_type": "markdown",
   "id": "80815887",
   "metadata": {},
   "source": [
    "Question are taken from - https://www.geeksforgeeks.org/python-oops-exercise-questions/\n",
    "**Author - Priyesh Yadav**"
   ]
  },
  {
   "cell_type": "markdown",
   "id": "9695bda8",
   "metadata": {},
   "source": [
    "**Exercise 1: Create a class Greeter with a method greet(name) that prints a greeting for the provided name.**"
   ]
  },
  {
   "cell_type": "code",
   "execution_count": 2,
   "id": "677ca5af",
   "metadata": {},
   "outputs": [
    {
     "name": "stdout",
     "output_type": "stream",
     "text": [
      "Hello !! Priyesh\n"
     ]
    }
   ],
   "source": [
    "class Greeter:\n",
    "    def greet(self, name):\n",
    "        self.name = name\n",
    "        print(f'Hello !! {self.name}')\n",
    "        \n",
    "obj1 = Greeter()\n",
    "obj1.greet('Priyesh')"
   ]
  },
  {
   "cell_type": "markdown",
   "id": "0c94711e",
   "metadata": {},
   "source": [
    "**Exercise 2: Develop a class Calculator with methods to add and subtract two numbers.**"
   ]
  },
  {
   "cell_type": "code",
   "execution_count": 5,
   "id": "617a5c85",
   "metadata": {},
   "outputs": [
    {
     "name": "stdout",
     "output_type": "stream",
     "text": [
      "Addition of 10 and 5 is : 15\n",
      "Subtraction of 10 and 5 is : 5\n"
     ]
    }
   ],
   "source": [
    "class Calculator:\n",
    "    def add(self,x,y):\n",
    "        self.x = x\n",
    "        self.y = y\n",
    "        return f'Addition of {self.x} and {self.y} is : {self.x + self.y}'\n",
    "    \n",
    "    def sub(self,x,y):\n",
    "        self.x = x\n",
    "        self.y = y\n",
    "        return f'Subtraction of {self.x} and {self.y} is : {self.x - self.y}' \n",
    "    \n",
    "obj_cal = Calculator()\n",
    "print(obj_cal.add(10,5))\n",
    "print(obj_cal.sub(10,5)"
   ]
  },
  {
   "cell_type": "markdown",
   "id": "7ccea43a",
   "metadata": {},
   "source": [
    "**Exercise 2a: Do we really need _SELF_ as we have not initialized any class attribute ??**"
   ]
  },
  {
   "cell_type": "code",
   "execution_count": 10,
   "id": "e364f5c4",
   "metadata": {},
   "outputs": [
    {
     "name": "stdout",
     "output_type": "stream",
     "text": [
      "Addition of 10 and 5 is : 15\n",
      "Subtraction of 10 and 5 is : 5\n"
     ]
    },
    {
     "data": {
      "text/plain": [
       "'\\nExplanation \\nmethod always require the SELF as first parameter, beacuse they will be called via objects.\\nsince the attributes are not directly linked to object, as our class doesnt accept any argument,\\nWe can ignore self.variable = variable initialization.\\n'"
      ]
     },
     "execution_count": 10,
     "metadata": {},
     "output_type": "execute_result"
    }
   ],
   "source": [
    "class Calculator:\n",
    "    def add(self,x,y):\n",
    "        return f'Addition of {x} and {y} is : {x + y}'\n",
    "    \n",
    "    def sub(self,x,y):\n",
    "        return f'Subtraction of {x} and {y} is : {x - y}' \n",
    "    \n",
    "obj_cal = Calculator()\n",
    "print(obj_cal.add(10,5))\n",
    "print(obj_cal.sub(10,5))\n",
    "\n",
    "'''\n",
    "Explanation \n",
    "method always require the SELF as first parameter, beacuse they will be called via objects.\n",
    "since the attributes are not directly linked to object, as our class doesnt accept any argument,\n",
    "We can ignore self.variable = variable initialization.\n",
    "'''"
   ]
  },
  {
   "cell_type": "markdown",
   "id": "1f4ce24a",
   "metadata": {},
   "source": [
    "**Exercise 3: Build a class Employee with multiple constructors that can initialize an employee object in different ways.**"
   ]
  },
  {
   "cell_type": "code",
   "execution_count": 16,
   "id": "e9ddf33e",
   "metadata": {},
   "outputs": [
    {
     "name": "stdout",
     "output_type": "stream",
     "text": [
      "Name : priyesh \n",
      "Email : priyesh@aol.com \n",
      "Department : IT\n",
      "Name : kunal \n",
      "Email : kunal@aol.com\n",
      "Name : vinay \n",
      "Department : IT\n",
      "No Information Given\n"
     ]
    }
   ],
   "source": [
    "class Employee:\n",
    "    def __init__(self, name=None, email = None , department = None):\n",
    "        self.name = name\n",
    "        self.email = email\n",
    "        self.dept = department\n",
    "        \n",
    "    def display(self):\n",
    "        if self.email and self.dept:\n",
    "            return f'Name : {self.name} \\nEmail : {self.email} \\nDepartment : {self.dept}'\n",
    "        elif self.email and not self.dept:\n",
    "            return f'Name : {self.name} \\nEmail : {self.email}'\n",
    "        elif not self.email and self.dept:\n",
    "            return f'Name : {self.name} \\nDepartment : {self.dept}'\n",
    "        else:\n",
    "            return f'No Information Given'\n",
    "        \n",
    "emp1 = Employee('priyesh','priyesh@aol.com','IT')\n",
    "print(emp1.display())\n",
    "emp2 = Employee('kunal','kunal@aol.com')\n",
    "print(emp2.display())\n",
    "emp3 = Employee('vinay',department='IT')\n",
    "print(emp3.display())\n",
    "emp4 = Employee()\n",
    "print(emp4.display())"
   ]
  },
  {
   "cell_type": "markdown",
   "id": "b66009bb",
   "metadata": {},
   "source": [
    "**Explanation of Exercise 3**\n",
    "\n",
    "Since we are initiating variable with default values, it allow us to initialize objects in diff ways.\n",
    "for Obj3, since we are skiping 2nd position argument, we need to provide the 3rd argument using the keyword. if we dont do this then the value passed will be considered in 2nd Positional Argument."
   ]
  },
  {
   "cell_type": "markdown",
   "id": "02ea1834",
   "metadata": {},
   "source": [
    "**Exercise 4: Design a class SeriesCalculator that calculates the sum of an arithmetic series.**"
   ]
  },
  {
   "cell_type": "code",
   "execution_count": 18,
   "id": "44dd662a",
   "metadata": {},
   "outputs": [
    {
     "name": "stdout",
     "output_type": "stream",
     "text": [
      "Airthmatic Sum of as1 :  25\n",
      "Airthmatic Sum of as2 :  85\n"
     ]
    }
   ],
   "source": [
    "class SeriesCalculator:\n",
    "    def sum_airthmatic(self, n, a=1, d=2):\n",
    "         return n * (2 * a + (n - 1) * d) // 2\n",
    "\n",
    "as1 = SeriesCalculator()\n",
    "as2 = SeriesCalculator()\n",
    "\n",
    "print(\"Airthmatic Sum of as1 : \", as1.sum_airthmatic(5))\n",
    "print(\"Airthmatic Sum of as2 : \", as1.sum_airthmatic(5,3,7))"
   ]
  },
  {
   "cell_type": "markdown",
   "id": "b5b7faaf",
   "metadata": {},
   "source": [
    "**Exercise 5: Create a class MaxFinder that identifies the largest number in a list.**"
   ]
  },
  {
   "cell_type": "code",
   "execution_count": 20,
   "id": "eaa243e2",
   "metadata": {},
   "outputs": [
    {
     "name": "stdout",
     "output_type": "stream",
     "text": [
      "9\n",
      "Empty List\n"
     ]
    }
   ],
   "source": [
    "class MaxFinder:\n",
    "    def __init__(self, numbers):\n",
    "        self.num = numbers\n",
    "        \n",
    "    def findmax(self):\n",
    "        if len(self.num) == 0:\n",
    "            return f'Empty List'\n",
    "        else:\n",
    "            return max(self.num)\n",
    "        \n",
    "l1 = MaxFinder([2,4,9])\n",
    "print(l1.findmax())\n",
    "l2 = MaxFinder([])\n",
    "print(l2.findmax())"
   ]
  },
  {
   "cell_type": "markdown",
   "id": "9d1f332e",
   "metadata": {},
   "source": [
    "**Exercise 6: Design a Rectangle class with default attributes for length and width set to 1. Include methods to set these attributes and calculate the area.**"
   ]
  },
  {
   "cell_type": "code",
   "execution_count": 7,
   "id": "868a54f4",
   "metadata": {},
   "outputs": [
    {
     "name": "stdout",
     "output_type": "stream",
     "text": [
      "Area of Rectangle is : 1\n",
      "Area of Rectangle is : 16\n",
      "Area of Rectangle is : 6\n"
     ]
    }
   ],
   "source": [
    "class Rectangle:\n",
    "    def __init__(self,length=1, width=1):\n",
    "        '''When the object is created length and width are initilized with Default Attributes'''\n",
    "        self.length = length\n",
    "        self.width = width\n",
    "        \n",
    "    def set_attribute(self, length, width):\n",
    "        '''This method is called to reset the default parameter.\n",
    "        For Same reason we are using self.length & self.width'''\n",
    "        self.length = length\n",
    "        self.width = width\n",
    "        \n",
    "    def area_calc(self):\n",
    "        return self.length * self.width\n",
    "    \n",
    "R1 = Rectangle()\n",
    "print(f'Area of Rectangle is : {R1.area_calc()}')\n",
    "R2 = Rectangle()\n",
    "R2.set_attribute(4,4)\n",
    "print(f'Area of Rectangle is : {R2.area_calc()}')\n",
    "R3 = Rectangle(3,2)\n",
    "print(f'Area of Rectangle is : {R3.area_calc()}')"
   ]
  },
  {
   "cell_type": "markdown",
   "id": "d162eabf",
   "metadata": {},
   "source": [
    "**Exercise 7: Person Class with __str__ Method: Create a Person class with first and last name attributes and override the __str__ method to return the full name.**"
   ]
  },
  {
   "cell_type": "code",
   "execution_count": 11,
   "id": "90ce348d",
   "metadata": {},
   "outputs": [
    {
     "name": "stdout",
     "output_type": "stream",
     "text": [
      "Hello Yadav, Priyesh !\n"
     ]
    }
   ],
   "source": [
    "class Person:\n",
    "    def __init__(self, First_name, Last_name):\n",
    "        self.first = First_name\n",
    "        self.last = Last_name\n",
    "        \n",
    "    def __str__(self):\n",
    "        return f'Hello {self.last}, {self.first} !'\n",
    "    \n",
    "P1 = Person('Priyesh','Yadav')\n",
    "print(P1)"
   ]
  },
  {
   "cell_type": "markdown",
   "id": "fdf98a00",
   "metadata": {},
   "source": [
    "**Exercise 8: Student Grade Calculator: Implement a Student class with attributes for name and a list of marks. Include a method to calculate the average and determine the grade.**"
   ]
  },
  {
   "cell_type": "code",
   "execution_count": 16,
   "id": "0cb0affa",
   "metadata": {},
   "outputs": [
    {
     "name": "stdout",
     "output_type": "stream",
     "text": [
      "Hey Priyesh, Your average is 98.0 & Hence grade is A\n"
     ]
    }
   ],
   "source": [
    "class Student:\n",
    "    def __init__(self, name, marks):\n",
    "        self.name = name\n",
    "        self.marks = marks\n",
    "    def average(self):\n",
    "        return sum(self.marks)/len(self.marks)\n",
    "    def grade(self):\n",
    "        average = self.average()\n",
    "        if average >= 90:\n",
    "            return 'A'\n",
    "        elif average >= 80:\n",
    "            return 'B'\n",
    "        elif average >= 70:\n",
    "            return 'C'\n",
    "        elif average >= 60:\n",
    "            return 'D'\n",
    "        else:\n",
    "            return 'F'\n",
    "        \n",
    "S1 = Student('Priyesh',[98,97,99])\n",
    "print(f'Hey {S1.name}, Your average is {S1.average()} & Hence grade is {S1.grade()}')\n",
    "        "
   ]
  },
  {
   "cell_type": "markdown",
   "id": "c0cfb5fc",
   "metadata": {},
   "source": [
    "**Exercise 10: Last Digit in Words: Write a class with a method that takes an integer and prints the last digit of that number in words.**"
   ]
  },
  {
   "cell_type": "code",
   "execution_count": 20,
   "id": "3852cf92",
   "metadata": {},
   "outputs": [
    {
     "name": "stdout",
     "output_type": "stream",
     "text": [
      "Last Digit word: Four\n"
     ]
    }
   ],
   "source": [
    "class LastDigit:\n",
    "    def last_digit_word(self,number):\n",
    "        self.number = number\n",
    "        word = ['Zero','One','Two','Three','Four','Five','Six','Seven','Eight','Nine']\n",
    "        return word[number%10]\n",
    "    \n",
    "L1 = LastDigit()\n",
    "print(f'Last Digit word: {L1.last_digit_word(1234)}')"
   ]
  },
  {
   "cell_type": "markdown",
   "id": "1d464589",
   "metadata": {},
   "source": [
    "**Exercise 11: Object Count Tracker: Design a class that tracks how many objects have been created from it and has a method to display this count**"
   ]
  },
  {
   "cell_type": "code",
   "execution_count": 8,
   "id": "d36cb076",
   "metadata": {},
   "outputs": [
    {
     "name": "stdout",
     "output_type": "stream",
     "text": [
      "object created are 2\n",
      "object created are now 3\n",
      "object created are now 4\n"
     ]
    }
   ],
   "source": [
    "class Object_Tracker:\n",
    "    count = 0\n",
    "    def __init__(self):\n",
    "        Object_Tracker.count += 1\n",
    "    \n",
    "    @staticmethod\n",
    "    def show_object_count():\n",
    "        return Object_Tracker.count\n",
    "    \n",
    "O1 = Object_Tracker()\n",
    "O2 = Object_Tracker()\n",
    "print(f'object created are {Object_Tracker.show_object_count()}')\n",
    "O3 = Object_Tracker()\n",
    "print(f'object created are now {Object_Tracker.show_object_count()}')\n",
    "O4 = Object_Tracker()\n",
    "print(f'object created are now {O4.show_object_count()}')\n",
    "    "
   ]
  },
  {
   "cell_type": "markdown",
   "id": "5e41f24b",
   "metadata": {},
   "source": [
    "**Explanation for Exe 11\n",
    "    1.count has be defined as a class variable, so we dont keep track of it.\n",
    "    2.classname.variable name ensure that with __init__ we are updating the class variable.\n",
    "    3.@staticmethod decorator is used which allow us to not pass any self argument to method.\n",
    "    4.While calling method, Both class & object ref works in the same way.**"
   ]
  },
  {
   "cell_type": "markdown",
   "id": "eae287a4",
   "metadata": {},
   "source": [
    "**Exercise 12: Calculating Student Results: Develop a class to accept a student's name and marks in three subjects, then calculate and display the total and average marks.**"
   ]
  },
  {
   "cell_type": "code",
   "execution_count": 14,
   "id": "d0d30ac6",
   "metadata": {},
   "outputs": [
    {
     "name": "stdout",
     "output_type": "stream",
     "text": [
      "Hi Priyesh ! Your total is 210 and average is 70.0\n",
      "Hi Kunal ! Your average is 56.33\n"
     ]
    }
   ],
   "source": [
    "class Student:\n",
    "    def __init__(self,name, marks):\n",
    "        self.name = name\n",
    "        self.marks = marks\n",
    "        \n",
    "    def total_calc(self):\n",
    "        return sum(self.marks)\n",
    "    \n",
    "    def average_calc(self):\n",
    "        return self.total_calc()/len(self.marks)\n",
    "    \n",
    "S1 = Student('Priyesh',[40,90,80])\n",
    "print(f'Hi {S1.name} ! Your total is {S1.total_calc()} and average is {S1.average_calc()}')\n",
    "S2 = Student('Kunal',[45,90,34])\n",
    "print(f'Hi {S2.name} ! Your average is {S2.average_calc():.2f}')"
   ]
  },
  {
   "cell_type": "markdown",
   "id": "1379a409",
   "metadata": {},
   "source": [
    "**Exercise 13: Car Class: Create a Car class with attributes make, model, and year. Include a method to display the details of the car.**"
   ]
  },
  {
   "cell_type": "code",
   "execution_count": 15,
   "id": "9be3459f",
   "metadata": {},
   "outputs": [
    {
     "name": "stdout",
     "output_type": "stream",
     "text": [
      "Car Make: Honda\n",
      "Car Model: Grand i20\n",
      "Manufacturing Year:2021\n"
     ]
    }
   ],
   "source": [
    "class Car:\n",
    "    def __init__(self,make,model,year):\n",
    "        self.make = make\n",
    "        self.model = model\n",
    "        self.year = year\n",
    "        \n",
    "    def display_detail(self):\n",
    "        return f'Car Make: {self.make}\\nCar Model: {self.model}\\nManufacturing Year:{self.year}'\n",
    "    \n",
    "c1 = Car('Honda','Grand i20','2021')\n",
    "print(c1.display_detail())"
   ]
  },
  {
   "cell_type": "markdown",
   "id": "56bb6d24",
   "metadata": {},
   "source": [
    "**Exercise 14: Inheritance - Animal Kingdom: Create a base class Animal with a method speak(). Derive two classes Dog and Cat from Animal and override the speak method to reflect their sounds.**"
   ]
  },
  {
   "cell_type": "code",
   "execution_count": 23,
   "id": "008bf8a9",
   "metadata": {},
   "outputs": [
    {
     "name": "stdout",
     "output_type": "stream",
     "text": [
      "A dog says Bow Bow !\n",
      "A Cat says Mhew Mhew !\n",
      "A common animal only says Grrrr !\n"
     ]
    }
   ],
   "source": [
    "class Animal:\n",
    "    def speak(self):\n",
    "        return f'Grrrr !'\n",
    "class Dog(Animal):\n",
    "    def speak(self):\n",
    "        return f'Bow Bow !'    \n",
    "class Cat(Animal):\n",
    "    def speak(self):\n",
    "        return f'Mhew Mhew !'\n",
    "    \n",
    "D1 = Dog()\n",
    "C1 = Cat()\n",
    "A1 = Animal()\n",
    "print(f'A dog says {D1.speak()}')\n",
    "print(f'A Cat says {C1.speak()}')\n",
    "print(f'A common animal only says {A1.speak()}')\n",
    "\n"
   ]
  },
  {
   "cell_type": "markdown",
   "id": "26e44754",
   "metadata": {},
   "source": [
    "**Exercise 15: Polymorphism with a Function: Create a function describe_pet that takes an object of Animal and calls its speak method, demonstrating polymorphism.**"
   ]
  },
  {
   "cell_type": "code",
   "execution_count": 33,
   "id": "7ab7f0aa",
   "metadata": {},
   "outputs": [
    {
     "name": "stdout",
     "output_type": "stream",
     "text": [
      "Meow !\n",
      "Pak !\n"
     ]
    },
    {
     "ename": "NotImplementedError",
     "evalue": "Subclasses must implement this method",
     "output_type": "error",
     "traceback": [
      "\u001b[0;31m---------------------------------------------------------------------------\u001b[0m",
      "\u001b[0;31mNotImplementedError\u001b[0m                       Traceback (most recent call last)",
      "Cell \u001b[0;32mIn[33], line 25\u001b[0m\n\u001b[1;32m     23\u001b[0m \u001b[38;5;28mprint\u001b[39m(describe_pet(Cat1))\n\u001b[1;32m     24\u001b[0m \u001b[38;5;28mprint\u001b[39m(describe_pet(Hen1))\n\u001b[0;32m---> 25\u001b[0m \u001b[38;5;28mprint\u001b[39m(describe_pet(Dog1))\n",
      "Cell \u001b[0;32mIn[33], line 17\u001b[0m, in \u001b[0;36mdescribe_pet\u001b[0;34m(animal)\u001b[0m\n\u001b[1;32m     16\u001b[0m \u001b[38;5;28;01mdef\u001b[39;00m \u001b[38;5;21mdescribe_pet\u001b[39m(animal):\n\u001b[0;32m---> 17\u001b[0m     \u001b[38;5;28;01mreturn\u001b[39;00m animal\u001b[38;5;241m.\u001b[39mspeak()\n",
      "Cell \u001b[0;32mIn[33], line 3\u001b[0m, in \u001b[0;36mAnimal.speak\u001b[0;34m(self)\u001b[0m\n\u001b[1;32m      2\u001b[0m \u001b[38;5;28;01mdef\u001b[39;00m \u001b[38;5;21mspeak\u001b[39m(\u001b[38;5;28mself\u001b[39m):\n\u001b[0;32m----> 3\u001b[0m     \u001b[38;5;28;01mraise\u001b[39;00m \u001b[38;5;167;01mNotImplementedError\u001b[39;00m(\u001b[38;5;124m\"\u001b[39m\u001b[38;5;124mSubclasses must implement this method\u001b[39m\u001b[38;5;124m\"\u001b[39m)\n",
      "\u001b[0;31mNotImplementedError\u001b[0m: Subclasses must implement this method"
     ]
    }
   ],
   "source": [
    "class Animal:\n",
    "    def speak(self):\n",
    "        raise NotImplementedError(\"Subclasses must implement this method\")\n",
    "\n",
    "class Cat(Animal):\n",
    "    def speak(self):\n",
    "        return f'Meow !'\n",
    "    \n",
    "class Hen(Animal):\n",
    "    def speak(self):\n",
    "        return f'Pak !'\n",
    "    \n",
    "class Dog(Animal):\n",
    "    pass\n",
    "\n",
    "def describe_pet(animal):\n",
    "    return animal.speak()\n",
    "    \n",
    "Cat1 = Cat()\n",
    "Dog1 = Dog()\n",
    "Hen1 = Hen()\n",
    "\n",
    "print(describe_pet(Cat1))\n",
    "print(describe_pet(Hen1))\n",
    "print(describe_pet(Dog1))"
   ]
  },
  {
   "cell_type": "markdown",
   "id": "e0c3398a",
   "metadata": {},
   "source": [
    "Why Is This Polymorphism?\n",
    "✅ Same method name (speak()) behaves differently depending on the object.\n",
    "✅ The function (describe_pet()) works with any subclass, making it reusable.\n",
    "✅ Allows for flexibility, as new animal types can be added without changing describe_pet().\n",
    "\n",
    "This is method overriding polymorphism, where the same function call (speak()) gives different outputs depending on the object."
   ]
  },
  {
   "cell_type": "code",
   "execution_count": null,
   "id": "3a993254",
   "metadata": {},
   "outputs": [],
   "source": []
  }
 ],
 "metadata": {
  "kernelspec": {
   "display_name": "Python 3 (ipykernel)",
   "language": "python",
   "name": "python3"
  },
  "language_info": {
   "codemirror_mode": {
    "name": "ipython",
    "version": 3
   },
   "file_extension": ".py",
   "mimetype": "text/x-python",
   "name": "python",
   "nbconvert_exporter": "python",
   "pygments_lexer": "ipython3",
   "version": "3.11.4"
  }
 },
 "nbformat": 4,
 "nbformat_minor": 5
}
